{
 "cells": [
  {
   "cell_type": "code",
   "execution_count": 1,
   "metadata": {},
   "outputs": [],
   "source": [
    "import arcpy\n",
    "import psycopg2"
   ]
  },
  {
   "cell_type": "code",
   "execution_count": 13,
   "metadata": {},
   "outputs": [],
   "source": [
    "pointArray = arcpy.Array([arcpy.Point(0,0),arcpy.Point(0,10),arcpy.Point(10,10),arcpy.Point(10,0)])\n",
    "\n",
    "polygon = arcpy.Polygon(pointArray)\n",
    "\n",
    "wgs84 = arcpy.SpatialReference(4326)\n",
    "\n",
    "polygon.SR = wgs84\n",
    "\n",
    "polygon_wkt = polygon.WKT"
   ]
  },
  {
   "cell_type": "code",
   "execution_count": 14,
   "metadata": {},
   "outputs": [],
   "source": [
    "connection = psycopg2.connect(host = '35.193.80.209',\n",
    "                             database = 'lab0',\n",
    "                             user = 'postgres',\n",
    "                             password = '')\n",
    "\n",
    "cursor = connection.cursor()\n",
    "\n",
    "#create table\n",
    "create_table_query = sql.SQL(\"CREATE TABLE myPolygon (id integer, name Text, geog GEOMETRY(MultiPOLYGON,4326))\")\n",
    "\n",
    "cursor.execute(create_table_query)\n",
    "\n",
    "#insert polygon\n",
    "sql = f'''\n",
    "INSERT INTO myPolygon VALUES (1, 'example_poly',ST_GeomFromWKB(ST_AsEWKB(ST_GeomFromText('{polygon_wkt}')),4326));\n",
    "'''\n",
    "\n",
    "cursor.execute(sql)\n",
    "\n",
    "connection.commit()\n",
    "\n",
    "cursor.close()\n",
    "\n",
    "connection.close()"
   ]
  },
  {
   "cell_type": "code",
   "execution_count": 14,
   "metadata": {},
   "outputs": [
    {
     "name": "stdout",
     "output_type": "stream",
     "text": [
      "GeoJSON file saved\n"
     ]
    }
   ],
   "source": [
    "import requests\n",
    "\n",
    "url = 'http://34.125.39.137:5000/get_polygon'\n",
    "response = requests.get(url)\n",
    "\n",
    "if response.status_code == 200:\n",
    "    geojson = response.json()\n",
    "    with open(\"C:/Users/yaxua/Desktop/myGeojson.geojson\",'w') as f:\n",
    "        f.write(str(geojson))\n",
    "        print('GeoJSON file saved')\n",
    "else:\n",
    "    print('Failed')"
   ]
  },
  {
   "cell_type": "code",
   "execution_count": 39,
   "metadata": {},
   "outputs": [
    {
     "name": "stdout",
     "output_type": "stream",
     "text": [
      "{\"type\": \"FeatureCollection\", \"features\": [{\"type\": \"MultiPolygon\", \"geometry\": {\"coordinates\": [[[[0, 10.00012207], [10.00012207, 0], [10.00012207, 10.00012207], [0, 10.00012207]]]], \"type\": \"MultiPolygon\"}, \"properties\": {\"name\": \"ExamplePolygon\"}}]}\n"
     ]
    }
   ],
   "source": [
    "import json\n",
    "\n",
    "# Load the JSON string as a Python object\n",
    "json_obj_1 = geojson\n",
    "\n",
    "# Convert the first JSON object to the second JSON object\n",
    "json_obj_2 = {\n",
    "    \"type\": \"FeatureCollection\",\n",
    "    \"features\": [\n",
    "        {\n",
    "            \"type\": \"MultiPolygon\",\n",
    "            \"geometry\": json_obj_1['geometry'],\n",
    "            \"properties\": {\n",
    "                \"name\": \"ExamplePolygon\"\n",
    "            }\n",
    "        }\n",
    "    ]\n",
    "}\n",
    "\n",
    "# Convert the Python object to a JSON string\n",
    "json_string_2 = json.dumps(json_obj_2)\n",
    "\n",
    "# Print the resulting JSON string\n",
    "print(json_string_2)\n",
    "\n",
    "# Parse the JSON string into a dictionary\n",
    "json_dict = json.loads(json_string_2)\n",
    "\n",
    "# Save the dictionary as a JSON file\n",
    "with open(\"C:/Users/yaxua/Desktop/myEsriGeojson.geojson\", 'w') as json_file:\n",
    "    json.dump(json_dict, json_file)"
   ]
  },
  {
   "cell_type": "code",
   "execution_count": 46,
   "metadata": {},
   "outputs": [],
   "source": [
    "import arcgis\n",
    "gis = arcgis.gis.GIS(\"home\")"
   ]
  },
  {
   "cell_type": "code",
   "execution_count": 49,
   "metadata": {},
   "outputs": [],
   "source": [
    "# File previously loaded into AGOL (manually)\n",
    "file_path = r\"C:/Users/yaxua/Desktop/myEsriGeojson.geojson\"\n",
    "\n",
    "# Add item \n",
    "props = {\"title\":\"myGeojson\", \"description\":\"Lab 1.2\", \"tags\":\"GIS 5572\", \"type\":\"GeoJson\"}\n",
    "item = gis.content.add(item_properties=props, data=file_path)\n",
    "\n"
   ]
  },
  {
   "cell_type": "code",
   "execution_count": null,
   "metadata": {},
   "outputs": [],
   "source": [
    "# Publish item\n",
    "item.publish(None)\n",
    "\n",
    "feature_layer_collection = FeatureLayerCollection.fromitem(item)"
   ]
  }
 ],
 "metadata": {
  "kernelspec": {
   "display_name": "ArcGISPro",
   "language": "Python",
   "name": "python3"
  },
  "language_info": {
   "file_extension": ".py",
   "name": "python",
   "version": "3"
  }
 },
 "nbformat": 4,
 "nbformat_minor": 2
}
