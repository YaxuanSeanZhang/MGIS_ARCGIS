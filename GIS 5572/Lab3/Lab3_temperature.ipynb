{
 "cells": [
  {
   "cell_type": "code",
   "execution_count": 24,
   "metadata": {},
   "outputs": [],
   "source": [
    "import psycopg2\n",
    "import arcpy\n",
    "import arcgis\n",
    "import pandas as pd\n",
    "import numpy as np\n",
    "import datetime\n",
    "import requests\n",
    "#import seaborn as sns\n",
    "import matplotlib.pyplot as plt\n",
    "#import rasterio\n",
    "import pyodbc\n",
    "import os\n",
    "import warnings\n",
    "import subprocess\n",
    "import sys\n",
    "#from shapely.geometry import Point\n",
    "#import pyproj"
   ]
  },
  {
   "cell_type": "markdown",
   "metadata": {},
   "source": [
    "GET DATA FROM POSTGIS"
   ]
  },
  {
   "cell_type": "code",
   "execution_count": 71,
   "metadata": {},
   "outputs": [],
   "source": [
    "# Set up the PostgreSQL connection\n",
    "connection = psycopg2.connect(host = '35.193.80.209',\n",
    "                             database = 'Lab2',\n",
    "                             user = 'postgres',\n",
    "                             password = 'zyx11457')\n",
    "\n",
    "cur = connection.cursor()\n",
    "cur.execute(\"SELECT * FROM temperature_df\")\n",
    "rows = cur.fetchall()\n",
    "\n",
    "#transform to pd dataframe and aggregate data\n",
    "rows = pd.DataFrame(rows)\n",
    "rows.columns = ['id','date','name','max_tmpf','min_tmpf','x','y','month']\n",
    "rows = rows[rows['month']==3].reset_index(drop=True)\n",
    "\n",
    "rows_agg = rows.groupby('id')[['max_tmpf','min_tmpf']].mean().reset_index()\n",
    "\n",
    "rows = pd.merge(left = rows_agg, right=rows[['id','name','x','y']].drop_duplicates(), how='left',left_on=['id'], right_on=['id'])"
   ]
  },
  {
   "cell_type": "code",
   "execution_count": 80,
   "metadata": {},
   "outputs": [],
   "source": [
    "arcpy.env.workspace = \"E:/coursework/ARCGIS2/LAB3/LAB3\"\n",
    "\n",
    "sr = arcpy.SpatialReference(4326) # WGS 1984\n",
    "\n",
    "# create a new feature class\n",
    "arcpy.CreateFeatureclass_management(arcpy.env.workspace, \"temperature\", \"POINT\",spatial_reference=sr)\n",
    "\n",
    "# add fields to the feature class\n",
    "arcpy.AddField_management(\"E:/coursework/ARCGIS2/LAB3/LAB3/temperature.shp\", \"station_id\", \"Text\")\n",
    "#arcpy.AddField_management(\"E:/coursework/ARCGIS2/LAB3/LAB3/temperature.shp\", \"date\", 'Date')\n",
    "arcpy.AddField_management(\"E:/coursework/ARCGIS2/LAB3/LAB3/temperature.shp\", \"name\", \"Text\")\n",
    "arcpy.AddField_management(\"E:/coursework/ARCGIS2/LAB3/LAB3/temperature.shp\", \"max_tmpf\", \"Double\")\n",
    "arcpy.AddField_management(\"E:/coursework/ARCGIS2/LAB3/LAB3/temperature.shp\", \"min_tmpf\", 'Double')\n",
    "#arcpy.AddField_management(\"E:/coursework/ARCGIS2/LAB3/LAB3/temperature.shp\", \"month\", \"Short\")\n",
    "\n",
    "# insert data into the feature class\n",
    "cursor = arcpy.da.InsertCursor(\"E:/coursework/ARCGIS2/LAB3/LAB3/temperature.shp\", [\"SHAPE@\", \"station_id\", \"name\",\"max_tmpf\",'min_tmpf'])\n",
    "for index,row in rows.iterrows():\n",
    "    point = arcpy.Point(row[4], row[5])\n",
    "    cursor.insertRow([point, row[0], row[3],row[1], row[2]])\n",
    "del cursor\n",
    "\n",
    "'''\n",
    "#another way to filter shp\n",
    "input_shapefile = \"temperature.shp\"\n",
    "output_shapefile = \"temperature_March.shp\"\n",
    "\n",
    "sql_expression = \"month = 3\"\n",
    "arcpy.Select_analysis(input_shapefile, output_shapefile, sql_expression)\n",
    "'''\n",
    "\n",
    "cur.close()\n",
    "connection.close()"
   ]
  },
  {
   "cell_type": "markdown",
   "metadata": {},
   "source": [
    "IDW INTERPORLATION"
   ]
  },
  {
   "cell_type": "code",
   "execution_count": 5,
   "metadata": {},
   "outputs": [
    {
     "data": {
      "text/html": [
       "<div class='gpresult'><h2>Messages</h2><div id='messages' data-messages='[\"Start Time: Friday, April 14, 2023 1:07:58 PM\",\"Succeeded at Friday, April 14, 2023 1:08:00 PM (Elapsed Time: 1.83 seconds)\"]' data-show='true'><div id = 'default' /></div></div>"
      ],
      "text/plain": [
       "<Result 'temperature_idw_geo.lyr'>"
      ]
     },
     "execution_count": 5,
     "metadata": {},
     "output_type": "execute_result"
    }
   ],
   "source": [
    "#IDW interporlation\n",
    "arcpy.env.workspace = \"E:/coursework/ARCGIS2/LAB3/LAB3\"\n",
    "input_fc = \"temperature.shp\"\n",
    "geostat_layer =  \"temperature_idw_geo.lyr\"\n",
    "output_raster = \"temperature_idw.tif\"\n",
    "\n",
    "# Set up the IDW interpolation parameters\n",
    "cell_size = 0.02 # Cell size of the output raster\n",
    "power = 2 # Power parameter for IDW interpolation (optional, default is 2)\n",
    "\n",
    "arcpy.CheckOutExtension(\"Spatial\")\n",
    "arcpy.ga.IDW(input_fc, 'max_tmpf',geostat_layer, output_raster,cell_size = cell_size, power = power)\n",
    "#arcpy.sa.Idw(input_fc, \"max_tmpf\", output_raster, cell_size, power)"
   ]
  },
  {
   "cell_type": "markdown",
   "metadata": {},
   "source": [
    "KRIGING"
   ]
  },
  {
   "cell_type": "code",
   "execution_count": 6,
   "metadata": {},
   "outputs": [
    {
     "data": {
      "text/html": [
       "<div class='gpresult'><h2>Messages</h2><div id='messages' data-messages='[\"Start Time: Friday, April 14, 2023 1:08:09 PM\",\"\\r\\nWarning(s) for dataset: Length of the radius of the search circle = 2.5858e+05 meters.\",\"Succeeded at Friday, April 14, 2023 1:08:51 PM (Elapsed Time: 42.15 seconds)\"]' data-show='true'><div id = 'default' /></div></div>"
      ],
      "text/plain": [
       "<Result 'temperature_BayesianKriging_geo.lyr'>"
      ]
     },
     "execution_count": 6,
     "metadata": {},
     "output_type": "execute_result"
    }
   ],
   "source": [
    "#Bayesian Kriging\n",
    "geostat_layer =  \"temperature_BayesianKriging_geo.lyr\"\n",
    "output_raster = \"temperature_BayesianKriging.tif\"\n",
    "arcpy.ga.EmpiricalBayesianKriging(input_fc, 'max_tmpf', geostat_layer, output_raster, cell_size = cell_size)\n",
    "#arcpy.sa.Idw(input_fc, \"max_tmpf\", output_raster, cell_size, power)"
   ]
  },
  {
   "cell_type": "markdown",
   "metadata": {},
   "source": [
    "RADIAL BASIS FUNCTIONS"
   ]
  },
  {
   "cell_type": "code",
   "execution_count": 7,
   "metadata": {},
   "outputs": [
    {
     "data": {
      "text/html": [
       "<div class='gpresult'><h2>Messages</h2><div id='messages' data-messages='[\"Start Time: Friday, April 14, 2023 1:08:51 PM\",\"Succeeded at Friday, April 14, 2023 1:08:53 PM (Elapsed Time: 1.27 seconds)\"]' data-show='true'><div id = 'default' /></div></div>"
      ],
      "text/plain": [
       "<Result 'temperature_RBF_geo.lyr'>"
      ]
     },
     "execution_count": 7,
     "metadata": {},
     "output_type": "execute_result"
    }
   ],
   "source": [
    "#Radial Basis Functions\n",
    "geostat_layer =  \"temperature_RBF_geo.lyr\"\n",
    "output_raster = \"temperature_RBF.tif\"\n",
    "arcpy.ga.RadialBasisFunctions(input_fc, 'max_tmpf', geostat_layer, output_raster, cell_size = cell_size)\n",
    "#arcpy.sa.Idw(input_fc, \"max_tmpf\", output_raster, cell_size, power)"
   ]
  },
  {
   "cell_type": "markdown",
   "metadata": {},
   "source": [
    "ASSESMENT (CROSS VALIDATION)"
   ]
  },
  {
   "cell_type": "code",
   "execution_count": 8,
   "metadata": {},
   "outputs": [
    {
     "data": {
      "text/html": [
       "<div class='gpresult'><h2>Messages</h2><div id='messages' data-messages='[\"Start Time: Friday, April 14, 2023 1:08:56 PM\",\"Count = 153\",\"Mean error = 0.0625345218701091\",\"Root mean square = 1.4526274613315233\",\"Average standard = NaN\",\"Mean standardized = NaN\",\"Root mean square standardized = NaN\",\"Percent in 90% Interval = NaN\",\"Percent in 95% Interval = NaN\",\"Average CRPS = NaN\",\"Succeeded at Friday, April 14, 2023 1:08:57 PM (Elapsed Time: 1.21 seconds)\"]' data-show='true'><div id = 'default' /></div></div>"
      ],
      "text/plain": [
       "<Result 'E:/coursework/ARCGIS2/LAB3/LAB3\\\\temperature_RBF_CV.shp'>"
      ]
     },
     "execution_count": 8,
     "metadata": {},
     "output_type": "execute_result"
    }
   ],
   "source": [
    "arcpy.CrossValidation_ga(\"temperature_idw_geo.lyr\",\"temperature_idw_CV.shp\")\n",
    "arcpy.CrossValidation_ga(\"temperature_BayesianKriging_geo.lyr\",\"temperature_BayesianKriging_CV.shp\")\n",
    "arcpy.CrossValidation_ga(\"temperature_RBF_geo.lyr\",\"temperature_RBF_CV.shp\")"
   ]
  },
  {
   "cell_type": "markdown",
   "metadata": {},
   "source": [
    "CALCULATE RMSE AND COMPARE"
   ]
  },
  {
   "cell_type": "code",
   "execution_count": 2,
   "metadata": {},
   "outputs": [
    {
     "name": "stdout",
     "output_type": "stream",
     "text": [
      "The RMSE for IDW is: 1.5042421137517141\n",
      "The RMSE for Kriging is: 1.407298522569591\n",
      "The RMSE for RBF is: 1.4526274613313865\n"
     ]
    }
   ],
   "source": [
    "# Convert attribute table to a NumPy array and pd DataFrame\n",
    "arcpy.env.workspace = \"E:/coursework/ARCGIS2/LAB3/LAB3\"\n",
    "\n",
    "idw_cv_array = arcpy.da.FeatureClassToNumPyArray(\"temperature_idw_cv.shp\", [\"FID\", \"Error\"])\n",
    "idw_cv_pd = pd.DataFrame(idw_cv_array, columns=[\"FID\", \"Error\"])\n",
    "\n",
    "Kriging_cv_array = arcpy.da.FeatureClassToNumPyArray(\"temperature_BayesianKriging_cv.shp\", [\"FID\", \"Error\"])\n",
    "Kriging_cv_pd = pd.DataFrame(Kriging_cv_array, columns=[\"FID\", \"Error\"])\n",
    "\n",
    "RBF_cv_array = arcpy.da.FeatureClassToNumPyArray(\"temperature_RBF_cv.shp\", [\"FID\", \"Error\"])\n",
    "RBF_cv_pd = pd.DataFrame(RBF_cv_array, columns=[\"FID\", \"Error\"])\n",
    "\n",
    "# Calculate squared error\n",
    "idw_cv_pd['squared_error'] = idw_cv_pd['Error'] ** 2\n",
    "Kriging_cv_pd['squared_error'] = Kriging_cv_pd['Error'] ** 2\n",
    "RBF_cv_pd['squared_error'] = RBF_cv_pd['Error'] ** 2\n",
    "\n",
    "# Calculate RMSE\n",
    "idw_rmse = numpy.sqrt(idw_cv_pd['squared_error'].mean())\n",
    "Kriging_rmse = numpy.sqrt(Kriging_cv_pd['squared_error'].mean())\n",
    "RBF_rmse = numpy.sqrt(RBF_cv_pd['squared_error'].mean())\n",
    "\n",
    "#Print and compare results\n",
    "print(f'The RMSE for IDW is: {idw_rmse}')\n",
    "print(f'The RMSE for Kriging is: {Kriging_rmse}')\n",
    "print(f'The RMSE for RBF is: {RBF_rmse}')"
   ]
  },
  {
   "cell_type": "code",
   "execution_count": 4,
   "metadata": {},
   "outputs": [],
   "source": [
    "# Set up the PostgreSQL connection\n",
    "connection = psycopg2.connect(host = '35.193.80.209',\n",
    "                             database = 'Lab3',\n",
    "                             user = 'postgres',\n",
    "                             password = 'zyx11457')\n",
    "\n",
    "# Set the name of the new table in the PostgreSQL database\n",
    "output_table = \"temperature_assesment_table\"\n",
    "\n",
    "# Use psycopg2 to create the table in the PostgreSQL database\n",
    "cursor = connection.cursor()\n",
    "cursor.execute(f\"CREATE TABLE {output_table} (method text, rmse double precision)\")\n",
    "\n",
    "# Use psycopg2 to copy the data from the Geodatabase table to the PostgreSQL table\n",
    "cursor.execute(f\"INSERT INTO {output_table} (method, rmse) VALUES (%s, %s)\", ('IDW',idw_rmse))\n",
    "cursor.execute(f\"INSERT INTO {output_table} (method, rmse) VALUES (%s, %s)\", ('Kriging',Kriging_rmse))\n",
    "cursor.execute(f\"INSERT INTO {output_table} (method, rmse) VALUES (%s, %s)\", ('RBF',RBF_rmse))\n",
    "\n",
    "\n",
    "# Commit the changes to the PostgreSQL database\n",
    "connection.commit()\n",
    "\n",
    "# Close the PostgreSQL connection and cursor\n",
    "cursor.close()\n",
    "connection.close()"
   ]
  },
  {
   "cell_type": "markdown",
   "metadata": {},
   "source": [
    "Upload Interporlation Map (Kriging) to POSTGIS"
   ]
  },
  {
   "cell_type": "code",
   "execution_count": 4,
   "metadata": {},
   "outputs": [
    {
     "data": {
      "text/html": [
       "<div class='gpresult'><h2>Messages</h2><div id='messages' data-messages='[\"Start Time: Wednesday, April 12, 2023 11:27:47 PM\",\"Succeeded at Wednesday, April 12, 2023 11:27:53 PM (Elapsed Time: 6.27 seconds)\"]' data-show='true'><div id = 'default' /></div></div>"
      ],
      "text/plain": [
       "<Result 'E:\\\\coursework\\\\ARCGIS2\\\\LAB3\\\\LAB3\\\\temperature_BayesianKriging_point.shp'>"
      ]
     },
     "execution_count": 4,
     "metadata": {},
     "output_type": "execute_result"
    }
   ],
   "source": [
    "#convert raster to point\n",
    "arcpy.conversion.RasterToPoint(r\"temperature_BayesianKriging.tif\",'temperature_BayesianKriging_point.shp','VALUE')\n",
    "\n",
    "#reproject\n",
    "#outCS = arcpy.SpatialReference('NAD 1983 UTM Zone 15N')\n",
    "#arcpy.management.Project(\"temperature_BayesianKriging_point.shp\", r\"temperature_BayesianKriging_point_reproject.shp\", outCS)\n",
    "\n",
    "#clip\n",
    "arcpy.analysis.Clip(\"temperature_BayesianKriging_point.shp\", r\"shp_bdry_state/Boundaries_of_Minnesota.shp\", r\"temperature_BayesianKriging_point_clip.shp\", None)"
   ]
  },
  {
   "cell_type": "code",
   "execution_count": 3,
   "metadata": {},
   "outputs": [
    {
     "name": "stdout",
     "output_type": "stream",
     "text": [
      "Return code: 0\n",
      "Error message: could not print result table: Invalid argument\n",
      "Field pointid is an FTDouble with width 10 and precision 0\n",
      "Field grid_code is an FTDouble with width 13 and precision 11\n",
      "Shapefile type: Point\n",
      "Postgis type: POINT[2]\n",
      "\n"
     ]
    }
   ],
   "source": [
    "#upload using shp2pgsql\n",
    "# Set the necessary parameters\n",
    "shp2pgsql_path = r\"D:\\PostgreSQL\\15\\bin\\shp2pgsql.exe\"\n",
    "psql_path = r\"D:\\PostgreSQL\\15\\bin\\psql.exe\"\n",
    "shapefile_path = r\"E:/coursework/ARCGIS2/LAB3/LAB3/temperature_BayesianKriging_point_clip.shp\"\n",
    "srid = 4326\n",
    "schema_table = \"temperature_BayesianKriging\"\n",
    "host = \"35.193.80.209\"\n",
    "port = 5432\n",
    "user = \"postgres\"\n",
    "db_name = \"Lab3\"\n",
    "password = \"zyx11457\"\n",
    "\n",
    "# Build the shp2pgsql command\n",
    "shp2pgsql_command = f\"\\\"{shp2pgsql_path}\\\" -s {srid} {shapefile_path} {schema_table}\"\n",
    "\n",
    "# Build the psql command\n",
    "psql_command = f\"\\\"{psql_path}\\\" -h {host} -p {port} -U {user} -d {db_name} -w\"\n",
    "\n",
    "# Combine the commands using a pipe\n",
    "full_command = f\"{shp2pgsql_command} | {psql_command}\"\n",
    "\n",
    "# Set up the environment with the password\n",
    "env = os.environ.copy()\n",
    "env[\"PGPASSWORD\"] = password\n",
    "\n",
    "# Run the command using the subprocess module and capture stderr\n",
    "process = subprocess.Popen(full_command, shell=True, env=env, stderr=subprocess.PIPE)\n",
    "\n",
    "# Wait for the process to finish and capture the return code and stderr\n",
    "return_code = process.wait()\n",
    "stderr_output = process.stderr.read().decode()\n",
    "\n",
    "# Print the return code and error message\n",
    "print(f\"Return code: {return_code}\")\n",
    "print(f\"Error message: {stderr_output}\")"
   ]
  },
  {
   "cell_type": "markdown",
   "metadata": {},
   "source": [
    "Download geojson from url using flask"
   ]
  },
  {
   "cell_type": "code",
   "execution_count": 4,
   "metadata": {},
   "outputs": [
    {
     "name": "stdout",
     "output_type": "stream",
     "text": [
      "Output file path: E:/coursework/ARCGIS2/LAB3/LAB3\\temperature_inteporlation.geojson\n",
      "GeoJSON file saved as E:/coursework/ARCGIS2/LAB3/LAB3\\temperature_inteporlation.geojson\n"
     ]
    }
   ],
   "source": [
    "import requests\n",
    "import json\n",
    "import os\n",
    "\n",
    "# Replace this URL with the address of your Flask application\n",
    "url = \"http://34.125.39.137:5000/temperature\"\n",
    "response = requests.get(url)\n",
    "\n",
    "# Check if the request was successful\n",
    "if response.status_code == 200:\n",
    "    geojson_data = response.json()\n",
    "\n",
    "    # Save the GeoJSON to the specified folder and name it \"lab3_test.geojson\"\n",
    "    output_folder = r\"E:/coursework/ARCGIS2/LAB3/LAB3\"\n",
    "    output_file_path = os.path.join(output_folder, \"temperature_inteporlation.geojson\")\n",
    "    print(f\"Output file path: {output_file_path}\")\n",
    "\n",
    "    with open(output_file_path, \"w\") as f:\n",
    "        json.dump(geojson_data, f)\n",
    "    print(f\"GeoJSON file saved as {output_file_path}\")\n",
    "else:\n",
    "    print(\"Error fetching GeoJSON data\")\n"
   ]
  },
  {
   "cell_type": "markdown",
   "metadata": {},
   "source": [
    "Convert geojson into esri geojson"
   ]
  },
  {
   "cell_type": "code",
   "execution_count": 5,
   "metadata": {},
   "outputs": [],
   "source": [
    "import json\n",
    "\n",
    "# Read input JSON data from file\n",
    "with open(r'E:/coursework/ARCGIS2/LAB3/LAB3/temperature_inteporlation.geojson', 'r') as input_file:\n",
    "    input_data = json.load(input_file)\n",
    "\n",
    "# Process input data and create output data\n",
    "output_data = {\n",
    "    \"type\":\"FeatureCollection\",\n",
    "    \"features\":[\n",
    "        {\n",
    "            \"type\":\"Feature\",\n",
    "            \"geometry\":{\n",
    "                \"type\":\"Point\",\n",
    "                \"coordinates\":point_data[\"geometry\"][\"coordinates\"],\n",
    "            },\n",
    "            \"properties\":{\"max_tmpf\": point_data[\"grid_code\"]},\n",
    "        } for point_data in input_data\n",
    "    ] \n",
    "}\n",
    "\n",
    "# Write output JSON data to file\n",
    "with open(r'E:/coursework/ARCGIS2/LAB3/LAB3/temperature_inteporlation_esri.geojson', 'w') as output_file:\n",
    "    json.dump(output_data, output_file, indent=2)"
   ]
  },
  {
   "cell_type": "markdown",
   "metadata": {},
   "source": [
    "UPLOAD TO ARCGIS ONLINE"
   ]
  },
  {
   "cell_type": "code",
   "execution_count": 7,
   "metadata": {},
   "outputs": [
    {
     "data": {
      "text/html": [
       "<div class=\"item_container\" style=\"height: auto; overflow: hidden; border: 1px solid #cfcfcf; border-radius: 2px; background: #f6fafa; line-height: 1.21429em; padding: 10px;\">\n",
       "                    <div class=\"item_left\" style=\"width: 210px; float: left;\">\n",
       "                       <a href='https://www.arcgis.com//home/item.html?id=2dadc285af774587aea109c747628d57' target='_blank'>\n",
       "                        <img src='http://static.arcgis.com/images/desktopapp.png' class=\"itemThumbnail\">\n",
       "                       </a>\n",
       "                    </div>\n",
       "\n",
       "                    <div class=\"item_right\"     style=\"float: none; width: auto; overflow: hidden;\">\n",
       "                        <a href='https://www.arcgis.com//home/item.html?id=2dadc285af774587aea109c747628d57' target='_blank'><b>temperature_inteporlation</b>\n",
       "                        </a>\n",
       "                        <br/><img src='https://www.arcgis.com//home/js/jsapi/esri/css/images/item_type_icons/featureshosted16.png' style=\"vertical-align:middle;\">Feature Layer Collection by zhan6322_UMN\n",
       "                        <br/>Last Modified: April 14, 2023\n",
       "                        <br/>0 comments, 0 views\n",
       "                    </div>\n",
       "                </div>\n",
       "                "
      ],
      "text/plain": [
       "<Item title:\"temperature_inteporlation\" type:Feature Layer Collection owner:zhan6322_UMN>"
      ]
     },
     "execution_count": 7,
     "metadata": {},
     "output_type": "execute_result"
    }
   ],
   "source": [
    "import arcgis\n",
    "gis = arcgis.gis.GIS(\"home\")\n",
    "\n",
    "# File previously loaded into AGOL (manually)\n",
    "file_path = r\"E:/coursework/ARCGIS2/LAB3/LAB3/temperature_inteporlation_esri.geojson\"\n",
    "\n",
    "# Add item \n",
    "props = {\"title\":\"temperature_inteporlation\", \"description\":\"Lab 3\", \"tags\":\"GIS 5572\", \"type\":\"GeoJson\"}\n",
    "item = gis.content.add(item_properties=props, data=file_path)\n",
    "\n",
    "# Publish item\n",
    "item.publish(None)"
   ]
  },
  {
   "cell_type": "code",
   "execution_count": 28,
   "metadata": {},
   "outputs": [
    {
     "data": {
      "text/html": [
       "<div class='gpresult'><h2>Messages</h2><div id='messages' data-messages='[\"Start Time: Thursday, April 13, 2023 7:50:29 PM\",\"Succeeded at Thursday, April 13, 2023 7:50:48 PM (Elapsed Time: 19.47 seconds)\"]' data-show='true'><div id = 'default' /></div></div>"
      ],
      "text/plain": [
       "<Result 'E:\\\\coursework\\\\ARCGIS2\\\\LAB3\\\\LAB3\\\\temperature_inteporlation_feature1.shp'>"
      ]
     },
     "execution_count": 28,
     "metadata": {},
     "output_type": "execute_result"
    }
   ],
   "source": [
    "#Json to feature class\n",
    "arcpy.conversion.JSONToFeatures(\"E:/coursework/ARCGIS2/LAB3/LAB3/temperature_inteporlation_esri.geojson\", \"E:/coursework/ARCGIS2/LAB3/LAB3/temperature_inteporlation_feature1.shp\", \"POINT\")\n",
    "\n",
    "#upload feature class to arconline\n",
    "import zipfile\n",
    "from arcgis.gis import GIS\n",
    "from arcgis.features import FeatureLayerCollection\n",
    "\n",
    "# Function to zip shapefile\n",
    "def zip_shapefile(shapefile_path):\n",
    "    with zipfile.ZipFile(shapefile_path + '.zip', 'w', zipfile.ZIP_DEFLATED) as zf:\n",
    "        for file_name in os.listdir(os.path.dirname(shapefile_path)):\n",
    "            if file_name.startswith(os.path.basename(shapefile_path).split('.')[0]) and not file_name.endswith('.zip'):\n",
    "                zf.write(os.path.join(os.path.dirname(shapefile_path), file_name), arcname=file_name)\n",
    "\n",
    "# Connect to your ArcGIS Online organization\n",
    "gis = GIS(\"home\")\n",
    "\n",
    "# Set the input shapefile path\n",
    "input_shapefile = r'E:/coursework/ARCGIS2/LAB3/LAB3/temperature_inteporlation.shp'\n",
    "\n",
    "# Zip the shapefile\n",
    "zip_shapefile(input_shapefile)\n",
    "\n",
    "# Upload the zipped shapefile as a new item\n",
    "item = gis.content.add({'type': 'Shapefile'}, input_shapefile + '.zip')\n",
    "\n",
    "# Publish the new item as a feature layer\n",
    "feature_layer_item = item.publish()\n",
    "\n",
    "# Get the feature layer URL and print it\n",
    "feature_layer_url = feature_layer_item.url\n",
    "print(feature_layer_url)"
   ]
  },
  {
   "cell_type": "markdown",
   "metadata": {},
   "source": [
    "Upload Interporlation Difference (Kriging) Layer to POSTGIS"
   ]
  },
  {
   "cell_type": "code",
   "execution_count": 11,
   "metadata": {},
   "outputs": [
    {
     "name": "stdout",
     "output_type": "stream",
     "text": [
      "Return code: 0\n",
      "Error message: could not print result table: Invalid argument\n",
      "Field measured is an FTDouble with width 19 and precision 11\n",
      "Field predicted is an FTDouble with width 19 and precision 11\n",
      "Field error is an FTDouble with width 19 and precision 11\n",
      "Field stderror is an FTDouble with width 19 and precision 11\n",
      "Field stdd_error is an FTDouble with width 19 and precision 11\n",
      "Field normvalue is an FTDouble with width 19 and precision 11\n",
      "Field crps is an FTDouble with width 19 and precision 11\n",
      "Field quanval is an FTDouble with width 19 and precision 11\n",
      "Field source_id is an FTDouble with width 10 and precision 0\n",
      "Shapefile type: Point\n",
      "Postgis type: POINT[2]\n",
      "\n"
     ]
    }
   ],
   "source": [
    "#upload using shp2pgsql\n",
    "# Set the necessary parameters\n",
    "shp2pgsql_path = r\"D:\\PostgreSQL\\15\\bin\\shp2pgsql.exe\"\n",
    "psql_path = r\"D:\\PostgreSQL\\15\\bin\\psql.exe\"\n",
    "shapefile_path = r\"E:/coursework/ARCGIS2/LAB3/LAB3/temperature_BayesianKriging_CV.shp\"\n",
    "srid = 4326\n",
    "schema_table = \"temperature_BayesianKriging_difference\"\n",
    "host = \"35.193.80.209\"\n",
    "port = 5432\n",
    "user = \"postgres\"\n",
    "db_name = \"Lab3\"\n",
    "password = \"zyx11457\"\n",
    "\n",
    "# Build the shp2pgsql command\n",
    "shp2pgsql_command = f\"\\\"{shp2pgsql_path}\\\" -s {srid} {shapefile_path} {schema_table} -c error:double precision\"\n",
    "\n",
    "# Build the psql command\n",
    "psql_command = f\"\\\"{psql_path}\\\" -h {host} -p {port} -U {user} -d {db_name} -w\"\n",
    "\n",
    "# Combine the commands using a pipe\n",
    "full_command = f\"{shp2pgsql_command} | {psql_command}\"\n",
    "\n",
    "# Set up the environment with the password\n",
    "env = os.environ.copy()\n",
    "env[\"PGPASSWORD\"] = password\n",
    "\n",
    "# Run the command using the subprocess module and capture stderr\n",
    "process = subprocess.Popen(full_command, shell=True, env=env, stderr=subprocess.PIPE)\n",
    "\n",
    "# Wait for the process to finish and capture the return code and stderr\n",
    "return_code = process.wait()\n",
    "stderr_output = process.stderr.read().decode()\n",
    "\n",
    "# Print the return code and error message\n",
    "print(f\"Return code: {return_code}\")\n",
    "print(f\"Error message: {stderr_output}\")\n",
    "\n",
    "# Set up the PostgreSQL connection\n",
    "connection = psycopg2.connect(host = '35.193.80.209',\n",
    "                             database = 'Lab3',\n",
    "                             user = 'postgres',\n",
    "                             password = 'zyx11457')\n",
    "\n",
    "# Set the name of the new table in the PostgreSQL database\n",
    "output_table = \"temperature_BayesianKriging_difference\"\n",
    "\n",
    "# Use psycopg2 to create the table in the PostgreSQL database\n",
    "cursor = connection.cursor()\n",
    "cursor.execute(f\"ALTER TABLE {output_table} ALTER COLUMN error SET DATA TYPE double precision;\")\n",
    "#cursor.execute(f\"\")\n",
    "\n",
    "# Commit the changes to the PostgreSQL database\n",
    "connection.commit()\n",
    "\n",
    "# Close the PostgreSQL connection and cursor\n",
    "cursor.close()\n",
    "connection.close()"
   ]
  },
  {
   "cell_type": "markdown",
   "metadata": {},
   "source": [
    "Download geojson from url using flask"
   ]
  },
  {
   "cell_type": "code",
   "execution_count": 18,
   "metadata": {},
   "outputs": [
    {
     "name": "stdout",
     "output_type": "stream",
     "text": [
      "Output file path: E:/coursework/ARCGIS2/LAB3/LAB3\\temperature_inteporlation_difference.geojson\n",
      "GeoJSON file saved as E:/coursework/ARCGIS2/LAB3/LAB3\\temperature_inteporlation_difference.geojson\n"
     ]
    }
   ],
   "source": [
    "import requests\n",
    "import json\n",
    "import os\n",
    "\n",
    "# Replace this URL with the address of your Flask application\n",
    "url = \"http://34.125.39.137:5000/tmp_difference\"\n",
    "response = requests.get(url)\n",
    "\n",
    "# Check if the request was successful\n",
    "if response.status_code == 200:\n",
    "    geojson_data = response.json()\n",
    "\n",
    "    # Save the GeoJSON to the specified folder and name it \"lab3_test.geojson\"\n",
    "    output_folder = r\"E:/coursework/ARCGIS2/LAB3/LAB3\"\n",
    "    output_file_path = os.path.join(output_folder, \"temperature_inteporlation_difference.geojson\")\n",
    "    print(f\"Output file path: {output_file_path}\")\n",
    "\n",
    "    with open(output_file_path, \"w\") as f:\n",
    "        json.dump(geojson_data, f)\n",
    "    print(f\"GeoJSON file saved as {output_file_path}\")\n",
    "else:\n",
    "    print(\"Error fetching GeoJSON data\")"
   ]
  },
  {
   "cell_type": "code",
   "execution_count": 19,
   "metadata": {},
   "outputs": [],
   "source": [
    "import json\n",
    "\n",
    "# Read input JSON data from file\n",
    "with open(r'E:/coursework/ARCGIS2/LAB3/LAB3/temperature_inteporlation_difference.geojson', 'r') as input_file:\n",
    "    input_data = json.load(input_file)\n",
    "\n",
    "# Process input data and create output data\n",
    "output_data = {\n",
    "    \"type\":\"FeatureCollection\",\n",
    "    \"features\":[\n",
    "        {\n",
    "            \"type\":\"Feature\",\n",
    "            \"geometry\":{\n",
    "                \"type\":\"Point\",\n",
    "                \"coordinates\":point_data[\"geometry\"][\"coordinates\"],\n",
    "            },\n",
    "            \"properties\":{\"error\": point_data[\"error\"]},\n",
    "        } for point_data in input_data\n",
    "    ] \n",
    "}\n",
    "\n",
    "# Write output JSON data to file\n",
    "with open(r'E:/coursework/ARCGIS2/LAB3/LAB3/temperature_inteporlation_difference_esri.geojson', 'w') as output_file:\n",
    "    json.dump(output_data, output_file, indent=2)"
   ]
  },
  {
   "cell_type": "markdown",
   "metadata": {},
   "source": [
    "UPLOAD TO ARCGIS ONLINE"
   ]
  },
  {
   "cell_type": "code",
   "execution_count": 20,
   "metadata": {},
   "outputs": [
    {
     "data": {
      "text/html": [
       "<div class=\"item_container\" style=\"height: auto; overflow: hidden; border: 1px solid #cfcfcf; border-radius: 2px; background: #f6fafa; line-height: 1.21429em; padding: 10px;\">\n",
       "                    <div class=\"item_left\" style=\"width: 210px; float: left;\">\n",
       "                       <a href='https://www.arcgis.com//home/item.html?id=8dabc4f3ea7c4adcba24047bebeceec8' target='_blank'>\n",
       "                        <img src='http://static.arcgis.com/images/desktopapp.png' class=\"itemThumbnail\">\n",
       "                       </a>\n",
       "                    </div>\n",
       "\n",
       "                    <div class=\"item_right\"     style=\"float: none; width: auto; overflow: hidden;\">\n",
       "                        <a href='https://www.arcgis.com//home/item.html?id=8dabc4f3ea7c4adcba24047bebeceec8' target='_blank'><b>temperature_inteporlation_difference</b>\n",
       "                        </a>\n",
       "                        <br/><img src='https://www.arcgis.com//home/js/jsapi/esri/css/images/item_type_icons/featureshosted16.png' style=\"vertical-align:middle;\">Feature Layer Collection by zhan6322_UMN\n",
       "                        <br/>Last Modified: April 14, 2023\n",
       "                        <br/>0 comments, 0 views\n",
       "                    </div>\n",
       "                </div>\n",
       "                "
      ],
      "text/plain": [
       "<Item title:\"temperature_inteporlation_difference\" type:Feature Layer Collection owner:zhan6322_UMN>"
      ]
     },
     "execution_count": 20,
     "metadata": {},
     "output_type": "execute_result"
    }
   ],
   "source": [
    "import arcgis\n",
    "gis = arcgis.gis.GIS(\"home\")\n",
    "\n",
    "# File previously loaded into AGOL (manually)\n",
    "file_path = r\"E:/coursework/ARCGIS2/LAB3/LAB3/temperature_inteporlation_difference_esri.geojson\"\n",
    "\n",
    "# Add item \n",
    "props = {\"title\":\"temperature_inteporlation_difference\", \"description\":\"Lab 3\", \"tags\":\"GIS 5572\", \"type\":\"GeoJson\"}\n",
    "item = gis.content.add(item_properties=props, data=file_path)\n",
    "\n",
    "# Publish item\n",
    "item.publish(None)"
   ]
  },
  {
   "cell_type": "code",
   "execution_count": null,
   "metadata": {},
   "outputs": [],
   "source": []
  }
 ],
 "metadata": {
  "kernelspec": {
   "display_name": "ArcGISPro",
   "language": "Python",
   "name": "python3"
  },
  "language_info": {
   "file_extension": ".py",
   "name": "python",
   "version": "3"
  }
 },
 "nbformat": 4,
 "nbformat_minor": 2
}
