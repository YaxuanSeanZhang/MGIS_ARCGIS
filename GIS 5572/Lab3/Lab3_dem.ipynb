{
 "cells": [
  {
   "cell_type": "code",
   "execution_count": 1,
   "metadata": {},
   "outputs": [],
   "source": [
    "import psycopg2\n",
    "import arcpy\n",
    "import arcgis\n",
    "import pandas as pd\n",
    "import numpy as np\n",
    "import datetime\n",
    "import requests\n",
    "#import seaborn as sns\n",
    "import matplotlib.pyplot as plt\n",
    "#import rasterio\n",
    "import pyodbc\n",
    "import os\n",
    "import warnings\n",
    "import subprocess\n",
    "import sys\n",
    "#from shapely.geometry import Point\n",
    "#import pyproj"
   ]
  },
  {
   "cell_type": "markdown",
   "metadata": {},
   "source": [
    "# sample 1/200 of the dataset"
   ]
  },
  {
   "cell_type": "code",
   "execution_count": 13,
   "metadata": {},
   "outputs": [
    {
     "data": {
      "text/plain": [
       "'0.06714694282904643 0.06714694282904635'"
      ]
     },
     "execution_count": 13,
     "metadata": {},
     "output_type": "execute_result"
    }
   ],
   "source": [
    "# Read cell size in X direction\n",
    "cellSizeX = arcpy.Describe(r\"E:/coursework/ARCGIS2/LAB3/LAB3/dem.tif\").meanCellWidth * 200\n",
    "\n",
    "# Read cell size in Y direction\n",
    "cellSizeY = arcpy.Describe(r\"E:/coursework/ARCGIS2/LAB3/LAB3/dem.tif\").meanCellHeight * 200\n",
    "\n",
    "# Resample\n",
    "cellSizeXY = u\"{} {}\".format(cellSizeX, cellSizeY)\n",
    "cellSizeXY\n",
    "#arcpy.Resample_management(\"c:/data/image.tif\", \"resample.tif\", cellSizeXY, \"NEAREST\")"
   ]
  },
  {
   "cell_type": "code",
   "execution_count": 14,
   "metadata": {},
   "outputs": [
    {
     "data": {
      "text/html": [
       "<div class='gpresult'><h2>Messages</h2><div id='messages' data-messages='[\"Start Time: Friday, April 14, 2023 8:22:29 PM\",\"Building Pyramids...\",\"Succeeded at Friday, April 14, 2023 8:22:35 PM (Elapsed Time: 5.92 seconds)\"]' data-show='true'><div id = 'default' /></div></div>"
      ],
      "text/plain": [
       "<Result 'E:\\\\coursework\\\\ARCGIS2\\\\LAB3\\\\LAB3\\\\resampled_dem.tif'>"
      ]
     },
     "execution_count": 14,
     "metadata": {},
     "output_type": "execute_result"
    }
   ],
   "source": [
    "arcpy.management.Resample(r\"E:/coursework/ARCGIS2/LAB3/LAB3/dem.tif\", r\"E:/coursework/ARCGIS2/LAB3/LAB3/resampled_dem.tif\", cellSizeXY, \"NEAREST\")"
   ]
  },
  {
   "cell_type": "markdown",
   "metadata": {},
   "source": [
    "# Convert raster into point shapefile"
   ]
  },
  {
   "cell_type": "code",
   "execution_count": 15,
   "metadata": {},
   "outputs": [
    {
     "data": {
      "text/html": [
       "<div class='gpresult'><h2>Messages</h2><div id='messages' data-messages='[\"Start Time: Friday, April 14, 2023 8:23:02 PM\",\"Succeeded at Friday, April 14, 2023 8:23:04 PM (Elapsed Time: 1.22 seconds)\"]' data-show='true'><div id = 'default' /></div></div>"
      ],
      "text/plain": [
       "<Result 'E:\\\\coursework\\\\ARCGIS2\\\\LAB3\\\\LAB3\\\\resampled_dem_point.shp'>"
      ]
     },
     "execution_count": 15,
     "metadata": {},
     "output_type": "execute_result"
    }
   ],
   "source": [
    "arcpy.conversion.RasterToPoint(\"E:/coursework/ARCGIS2/LAB3/LAB3/resampled_dem.tif\", r\"E:/coursework/ARCGIS2/LAB3/LAB3/resampled_dem_point.shp\", \"Value\")"
   ]
  },
  {
   "cell_type": "markdown",
   "metadata": {},
   "source": [
    "# IDW interpolation"
   ]
  },
  {
   "cell_type": "code",
   "execution_count": 16,
   "metadata": {},
   "outputs": [
    {
     "data": {
      "text/html": [
       "<div class='gpresult'><h2>Messages</h2><div id='messages' data-messages='[\"Start Time: Friday, April 14, 2023 8:26:28 PM\",\"Succeeded at Friday, April 14, 2023 8:26:29 PM (Elapsed Time: 0.54 seconds)\"]' data-show='true'><div id = 'default' /></div></div>"
      ],
      "text/plain": [
       "<Result 'dem_idw_geo.lyr'>"
      ]
     },
     "execution_count": 16,
     "metadata": {},
     "output_type": "execute_result"
    }
   ],
   "source": [
    "#out_raster = arcpy.ga.Idw(\"E:/coursework/ARCGIS2/LAB3/LAB3/resampled_dem_point.shp\", \"grid_code\", 500, 2, \"VARIABLE 12\", None); out_raster.save(r\"C:\\Users\\Maochuan\\OneDrive\\文档\\ArcGIS\\Projects\\arc2_lab3\\arc2_lab3.gdb\\Idw_RasterT_2\")\n",
    "\n",
    "#IDW interporlation\n",
    "arcpy.env.workspace = \"E:/coursework/ARCGIS2/LAB3/LAB3\"\n",
    "input_fc = \"resampled_dem_point.shp\"\n",
    "geostat_layer =  \"dem_idw_geo.lyr\"\n",
    "output_raster = \"dem_idw.tif\"\n",
    "\n",
    "# Set up the IDW interpolation parameters\n",
    "cell_size = 0.023 # Cell size of the output raster\n",
    "power = 2 # Power parameter for IDW interpolation (optional, default is 2)\n",
    "\n",
    "arcpy.CheckOutExtension(\"Spatial\")\n",
    "arcpy.ga.IDW(input_fc, 'grid_code',geostat_layer, output_raster,cell_size = cell_size, power = power)\n",
    "#arcpy.sa.Idw(input_fc, \"max_tmpf\", output_raster, cell_size, power)"
   ]
  },
  {
   "cell_type": "markdown",
   "metadata": {},
   "source": [
    "# Kriging "
   ]
  },
  {
   "cell_type": "code",
   "execution_count": 17,
   "metadata": {},
   "outputs": [
    {
     "data": {
      "text/html": [
       "<div class='gpresult'><h2>Messages</h2><div id='messages' data-messages='[\"Start Time: Friday, April 14, 2023 8:32:05 PM\",\"\\r\\nWarning(s) for dataset: Length of the radius of the search circle = 2.6683e+05 meters.\",\"Succeeded at Friday, April 14, 2023 8:32:32 PM (Elapsed Time: 26.35 seconds)\"]' data-show='true'><div id = 'default' /></div></div>"
      ],
      "text/plain": [
       "<Result 'dem_BayesianKriging_geo.lyr'>"
      ]
     },
     "execution_count": 17,
     "metadata": {},
     "output_type": "execute_result"
    }
   ],
   "source": [
    "#Bayesian Kriging\n",
    "geostat_layer =  \"dem_BayesianKriging_geo.lyr\"\n",
    "output_raster = \"dem_BayesianKriging.tif\"\n",
    "arcpy.ga.EmpiricalBayesianKriging(input_fc, 'grid_code', geostat_layer, output_raster, cell_size = cell_size)\n",
    "#arcpy.sa.Idw(input_fc, \"max_tmpf\", output_raster, cell_size, power)"
   ]
  },
  {
   "cell_type": "markdown",
   "metadata": {},
   "source": [
    "# RBF\n"
   ]
  },
  {
   "cell_type": "code",
   "execution_count": 18,
   "metadata": {},
   "outputs": [
    {
     "data": {
      "text/html": [
       "<div class='gpresult'><h2>Messages</h2><div id='messages' data-messages='[\"Start Time: Friday, April 14, 2023 8:32:36 PM\",\"Succeeded at Friday, April 14, 2023 8:32:38 PM (Elapsed Time: 1.86 seconds)\"]' data-show='true'><div id = 'default' /></div></div>"
      ],
      "text/plain": [
       "<Result 'dem_RBF_geo.lyr'>"
      ]
     },
     "execution_count": 18,
     "metadata": {},
     "output_type": "execute_result"
    }
   ],
   "source": [
    "#Radial Basis Functions\n",
    "geostat_layer =  \"dem_RBF_geo.lyr\"\n",
    "output_raster = \"dem_RBF.tif\"\n",
    "arcpy.ga.RadialBasisFunctions(input_fc, 'grid_code', geostat_layer, output_raster, cell_size = cell_size)\n"
   ]
  },
  {
   "cell_type": "markdown",
   "metadata": {},
   "source": [
    "# Interpolation assessment\n"
   ]
  },
  {
   "cell_type": "code",
   "execution_count": 19,
   "metadata": {},
   "outputs": [
    {
     "data": {
      "text/html": [
       "<div class='gpresult'><h2>Messages</h2><div id='messages' data-messages='[\"Start Time: Friday, April 14, 2023 8:33:35 PM\",\"Count = 5682\",\"Mean error = 0.6386164767678453\",\"Root mean square = 52.677574897308205\",\"Average standard = NaN\",\"Mean standardized = NaN\",\"Root mean square standardized = NaN\",\"Percent in 90% Interval = NaN\",\"Percent in 95% Interval = NaN\",\"Average CRPS = NaN\",\"Succeeded at Friday, April 14, 2023 8:33:36 PM (Elapsed Time: 1.14 seconds)\"]' data-show='true'><div id = 'default' /></div></div>"
      ],
      "text/plain": [
       "<Result 'E:/coursework/ARCGIS2/LAB3/LAB3\\\\dem_RBF_CV.shp'>"
      ]
     },
     "execution_count": 19,
     "metadata": {},
     "output_type": "execute_result"
    }
   ],
   "source": [
    "arcpy.CrossValidation_ga(\"dem_idw_geo.lyr\",\"dem_idw_CV.shp\")\n",
    "arcpy.CrossValidation_ga(\"dem_BayesianKriging_geo.lyr\",\"dem_BayesianKriging_CV.shp\")\n",
    "arcpy.CrossValidation_ga(\"dem_RBF_geo.lyr\",\"dem_RBF_CV.shp\")"
   ]
  },
  {
   "cell_type": "code",
   "execution_count": 20,
   "metadata": {},
   "outputs": [
    {
     "name": "stdout",
     "output_type": "stream",
     "text": [
      "The RMSE for IDW is: 57.22564964560843\n",
      "The RMSE for Kriging is: 48.2514619432444\n",
      "The RMSE for RBF is: 52.677574897310826\n"
     ]
    }
   ],
   "source": [
    "# Convert attribute table to a NumPy array and pd DataFrame\n",
    "arcpy.env.workspace = \"E:/coursework/ARCGIS2/LAB3/LAB3\"\n",
    "\n",
    "idw_cv_array = arcpy.da.FeatureClassToNumPyArray(\"dem_idw_cv.shp\", [\"FID\", \"Error\"])\n",
    "idw_cv_pd = pd.DataFrame(idw_cv_array, columns=[\"FID\", \"Error\"])\n",
    "\n",
    "Kriging_cv_array = arcpy.da.FeatureClassToNumPyArray(\"dem_BayesianKriging_cv.shp\", [\"FID\", \"Error\"])\n",
    "Kriging_cv_pd = pd.DataFrame(Kriging_cv_array, columns=[\"FID\", \"Error\"])\n",
    "\n",
    "RBF_cv_array = arcpy.da.FeatureClassToNumPyArray(\"dem_RBF_cv.shp\", [\"FID\", \"Error\"])\n",
    "RBF_cv_pd = pd.DataFrame(RBF_cv_array, columns=[\"FID\", \"Error\"])\n",
    "\n",
    "# Calculate squared error\n",
    "idw_cv_pd['squared_error'] = idw_cv_pd['Error'] ** 2\n",
    "Kriging_cv_pd['squared_error'] = Kriging_cv_pd['Error'] ** 2\n",
    "RBF_cv_pd['squared_error'] = RBF_cv_pd['Error'] ** 2\n",
    "\n",
    "# Calculate RMSE\n",
    "idw_rmse = numpy.sqrt(idw_cv_pd['squared_error'].mean())\n",
    "Kriging_rmse = numpy.sqrt(Kriging_cv_pd['squared_error'].mean())\n",
    "RBF_rmse = numpy.sqrt(RBF_cv_pd['squared_error'].mean())\n",
    "\n",
    "#Print and compare results\n",
    "print(f'The RMSE for IDW is: {idw_rmse}')\n",
    "print(f'The RMSE for Kriging is: {Kriging_rmse}')\n",
    "print(f'The RMSE for RBF is: {RBF_rmse}')\n"
   ]
  },
  {
   "cell_type": "code",
   "execution_count": 21,
   "metadata": {},
   "outputs": [],
   "source": [
    "# Set up the PostgreSQL connection\n",
    "connection = psycopg2.connect(host = '35.193.80.209',\n",
    "                             database = 'Lab3',\n",
    "                             user = 'postgres',\n",
    "                             password = 'zyx11457')\n",
    "\n",
    "# Set the name of the new table in the PostgreSQL database\n",
    "output_table = \"dem_assesment_table\"\n",
    "\n",
    "# Use psycopg2 to create the table in the PostgreSQL database\n",
    "cursor = connection.cursor()\n",
    "cursor.execute(f\"CREATE TABLE {output_table} (method text, rmse double precision)\")\n",
    "\n",
    "# Use psycopg2 to copy the data from the Geodatabase table to the PostgreSQL table\n",
    "cursor.execute(f\"INSERT INTO {output_table} (method, rmse) VALUES (%s, %s)\", ('IDW',idw_rmse))\n",
    "cursor.execute(f\"INSERT INTO {output_table} (method, rmse) VALUES (%s, %s)\", ('Kriging',Kriging_rmse))\n",
    "cursor.execute(f\"INSERT INTO {output_table} (method, rmse) VALUES (%s, %s)\", ('RBF',RBF_rmse))\n",
    "\n",
    "\n",
    "# Commit the changes to the PostgreSQL database\n",
    "connection.commit()\n",
    "\n",
    "# Close the PostgreSQL connection and cursor\n",
    "cursor.close()\n",
    "connection.close()"
   ]
  },
  {
   "cell_type": "markdown",
   "metadata": {},
   "source": [
    "# Upload Interporlation Map (Kriging) to POSTGIS"
   ]
  },
  {
   "cell_type": "code",
   "execution_count": 22,
   "metadata": {},
   "outputs": [
    {
     "data": {
      "text/html": [
       "<div class='gpresult'><h2>Messages</h2><div id='messages' data-messages='[\"Start Time: Friday, April 14, 2023 8:37:39 PM\",\"Analyzing input features...\",\"Dissolving clip features...\",\"Clipping input features...\",\"Succeeded at Friday, April 14, 2023 8:37:45 PM (Elapsed Time: 6.12 seconds)\"]' data-show='true'><div id = 'default' /></div></div>"
      ],
      "text/plain": [
       "<Result 'E:/coursework/ARCGIS2/LAB3/LAB3\\\\dem_BayesianKriging_point_clip.shp'>"
      ]
     },
     "execution_count": 22,
     "metadata": {},
     "output_type": "execute_result"
    }
   ],
   "source": [
    "#convert raster to point\n",
    "arcpy.conversion.RasterToPoint(r\"dem_BayesianKriging.tif\",'dem_BayesianKriging_point.shp','VALUE')\n",
    "\n",
    "#reproject\n",
    "#outCS = arcpy.SpatialReference('NAD 1983 UTM Zone 15N')\n",
    "#arcpy.management.Project(\"temperature_BayesianKriging_point.shp\", r\"temperature_BayesianKriging_point_reproject.shp\", outCS)\n",
    "\n",
    "#clip\n",
    "arcpy.analysis.Clip(\"dem_BayesianKriging_point.shp\", r\"shp_bdry_state/Boundaries_of_Minnesota.shp\", r\"dem_BayesianKriging_point_clip.shp\", None)"
   ]
  },
  {
   "cell_type": "markdown",
   "metadata": {},
   "source": [
    "# upload using shp2pgsql"
   ]
  },
  {
   "cell_type": "code",
   "execution_count": 25,
   "metadata": {},
   "outputs": [
    {
     "name": "stdout",
     "output_type": "stream",
     "text": [
      "Return code: 0\n",
      "Error message: could not print result table: Invalid argument\n",
      "Field pointid is an FTDouble with width 10 and precision 0\n",
      "Field grid_code is an FTDouble with width 13 and precision 11\n",
      "Shapefile type: Point\n",
      "Postgis type: POINT[2]\n",
      "\n"
     ]
    }
   ],
   "source": [
    "#upload using shp2pgsql\n",
    "# Set the necessary parameters\n",
    "shp2pgsql_path = r\"D:\\PostgreSQL\\15\\bin\\shp2pgsql.exe\"\n",
    "psql_path = r\"D:\\PostgreSQL\\15\\bin\\psql.exe\"\n",
    "shapefile_path = r\"E:/coursework/ARCGIS2/LAB3/LAB3/dem_BayesianKriging_point_clip.shp\"\n",
    "srid = 4326\n",
    "schema_table = \"dem_BayesianKriging\"\n",
    "host = \"35.193.80.209\"\n",
    "port = 5432\n",
    "user = \"postgres\"\n",
    "db_name = \"Lab3\"\n",
    "password = \"zyx11457\"\n",
    "\n",
    "# Build the shp2pgsql command\n",
    "shp2pgsql_command = f\"\\\"{shp2pgsql_path}\\\" -s {srid} {shapefile_path} {schema_table}\"\n",
    "\n",
    "# Build the psql command\n",
    "psql_command = f\"\\\"{psql_path}\\\" -h {host} -p {port} -U {user} -d {db_name} -w\"\n",
    "\n",
    "# Combine the commands using a pipe\n",
    "full_command = f\"{shp2pgsql_command} | {psql_command}\"\n",
    "\n",
    "# Set up the environment with the password\n",
    "env = os.environ.copy()\n",
    "env[\"PGPASSWORD\"] = password\n",
    "\n",
    "# Run the command using the subprocess module and capture stderr\n",
    "process = subprocess.Popen(full_command, shell=True, env=env, stderr=subprocess.PIPE)\n",
    "\n",
    "# Wait for the process to finish and capture the return code and stderr\n",
    "return_code = process.wait()\n",
    "stderr_output = process.stderr.read().decode()\n",
    "\n",
    "# Print the return code and error message\n",
    "print(f\"Return code: {return_code}\")\n",
    "print(f\"Error message: {stderr_output}\")\n"
   ]
  },
  {
   "cell_type": "markdown",
   "metadata": {},
   "source": [
    "# Download geojson from url using flask"
   ]
  },
  {
   "cell_type": "code",
   "execution_count": 26,
   "metadata": {},
   "outputs": [
    {
     "name": "stdout",
     "output_type": "stream",
     "text": [
      "Output file path: E:/coursework/ARCGIS2/LAB3/LAB3\\dem_inteporlation.geojson\n",
      "GeoJSON file saved as E:/coursework/ARCGIS2/LAB3/LAB3\\dem_inteporlation.geojson\n"
     ]
    }
   ],
   "source": [
    "import requests\n",
    "import json\n",
    "import os\n",
    "\n",
    "# Replace this URL with the address of your Flask application\n",
    "url = \"http://34.125.39.137:5000/dem\"\n",
    "response = requests.get(url)\n",
    "\n",
    "# Check if the request was successful\n",
    "if response.status_code == 200:\n",
    "    geojson_data = response.json()\n",
    "\n",
    "    # Save the GeoJSON to the specified folder and name it \"lab3_test.geojson\"\n",
    "    output_folder = r\"E:/coursework/ARCGIS2/LAB3/LAB3\"\n",
    "    output_file_path = os.path.join(output_folder, \"dem_inteporlation.geojson\")\n",
    "    print(f\"Output file path: {output_file_path}\")\n",
    "\n",
    "    with open(output_file_path, \"w\") as f:\n",
    "        json.dump(geojson_data, f)\n",
    "    print(f\"GeoJSON file saved as {output_file_path}\")\n",
    "else:\n",
    "    print(\"Error fetching GeoJSON data\")\n"
   ]
  },
  {
   "cell_type": "markdown",
   "metadata": {},
   "source": [
    "# Convert geojson into esri geojson"
   ]
  },
  {
   "cell_type": "code",
   "execution_count": 27,
   "metadata": {},
   "outputs": [],
   "source": [
    "import json\n",
    "\n",
    "# Read input JSON data from file\n",
    "with open(r'E:/coursework/ARCGIS2/LAB3/LAB3/dem_inteporlation.geojson', 'r') as input_file:\n",
    "    input_data = json.load(input_file)\n",
    "\n",
    "# Process input data and create output data\n",
    "output_data = {\n",
    "    \"type\":\"FeatureCollection\",\n",
    "    \"features\":[\n",
    "        {\n",
    "            \"type\":\"Feature\",\n",
    "            \"geometry\":{\n",
    "                \"type\":\"Point\",\n",
    "                \"coordinates\":point_data[\"geometry\"][\"coordinates\"],\n",
    "            },\n",
    "            \"properties\":{\"elevation\": point_data[\"grid_code\"]},\n",
    "        } for point_data in input_data\n",
    "    ] \n",
    "}\n",
    "\n",
    "# Write output JSON data to file\n",
    "with open(r'E:/coursework/ARCGIS2/LAB3/LAB3/dem_inteporlation_esri.geojson', 'w') as output_file:\n",
    "    json.dump(output_data, output_file, indent=2)\n"
   ]
  },
  {
   "cell_type": "markdown",
   "metadata": {},
   "source": [
    "# upload feature class to arconline"
   ]
  },
  {
   "cell_type": "code",
   "execution_count": 28,
   "metadata": {},
   "outputs": [
    {
     "data": {
      "text/html": [
       "<div class=\"item_container\" style=\"height: auto; overflow: hidden; border: 1px solid #cfcfcf; border-radius: 2px; background: #f6fafa; line-height: 1.21429em; padding: 10px;\">\n",
       "                    <div class=\"item_left\" style=\"width: 210px; float: left;\">\n",
       "                       <a href='https://www.arcgis.com//home/item.html?id=f428e6f984fc4804bccff8d53a6a9429' target='_blank'>\n",
       "                        <img src='http://static.arcgis.com/images/desktopapp.png' class=\"itemThumbnail\">\n",
       "                       </a>\n",
       "                    </div>\n",
       "\n",
       "                    <div class=\"item_right\"     style=\"float: none; width: auto; overflow: hidden;\">\n",
       "                        <a href='https://www.arcgis.com//home/item.html?id=f428e6f984fc4804bccff8d53a6a9429' target='_blank'><b>dem_inteporlation</b>\n",
       "                        </a>\n",
       "                        <br/><img src='https://www.arcgis.com//home/js/jsapi/esri/css/images/item_type_icons/featureshosted16.png' style=\"vertical-align:middle;\">Feature Layer Collection by zhan6322_UMN\n",
       "                        <br/>Last Modified: April 14, 2023\n",
       "                        <br/>0 comments, 0 views\n",
       "                    </div>\n",
       "                </div>\n",
       "                "
      ],
      "text/plain": [
       "<Item title:\"dem_inteporlation\" type:Feature Layer Collection owner:zhan6322_UMN>"
      ]
     },
     "execution_count": 28,
     "metadata": {},
     "output_type": "execute_result"
    }
   ],
   "source": [
    "import arcgis\n",
    "gis = arcgis.gis.GIS(\"home\")\n",
    "\n",
    "# File previously loaded into AGOL (manually)\n",
    "file_path = r\"E:/coursework/ARCGIS2/LAB3/LAB3/dem_inteporlation_esri.geojson\"\n",
    "\n",
    "# Add item \n",
    "props = {\"title\":\"dem_inteporlation\", \"description\":\"Lab 3\", \"tags\":\"GIS 5572\", \"type\":\"GeoJson\"}\n",
    "item = gis.content.add(item_properties=props, data=file_path)\n",
    "\n",
    "# Publish item\n",
    "item.publish(None)\n"
   ]
  },
  {
   "cell_type": "markdown",
   "metadata": {},
   "source": [
    "# upload kriging_difference point accuracy assesment layer to postgis database\n"
   ]
  },
  {
   "cell_type": "code",
   "execution_count": 29,
   "metadata": {},
   "outputs": [
    {
     "name": "stdout",
     "output_type": "stream",
     "text": [
      "Return code: 0\n",
      "Error message: could not print result table: Invalid argument\n",
      "Field measured is an FTDouble with width 19 and precision 11\n",
      "Field predicted is an FTDouble with width 19 and precision 11\n",
      "Field error is an FTDouble with width 19 and precision 11\n",
      "Field stderror is an FTDouble with width 19 and precision 11\n",
      "Field stdd_error is an FTDouble with width 19 and precision 11\n",
      "Field normvalue is an FTDouble with width 19 and precision 11\n",
      "Field crps is an FTDouble with width 19 and precision 11\n",
      "Field quanval is an FTDouble with width 19 and precision 11\n",
      "Field source_id is an FTDouble with width 10 and precision 0\n",
      "Shapefile type: Point\n",
      "Postgis type: POINT[2]\n",
      "\n"
     ]
    }
   ],
   "source": [
    "#upload using shp2pgsql\n",
    "# Set the necessary parameters\n",
    "shp2pgsql_path = r\"D:\\PostgreSQL\\15\\bin\\shp2pgsql.exe\"\n",
    "psql_path = r\"D:\\PostgreSQL\\15\\bin\\psql.exe\"\n",
    "shapefile_path = r\"E:/coursework/ARCGIS2/LAB3/LAB3/dem_BayesianKriging_CV.shp\"\n",
    "srid = 4326\n",
    "schema_table = \"dem_BayesianKriging_difference\"\n",
    "host = \"35.193.80.209\"\n",
    "port = 5432\n",
    "user = \"postgres\"\n",
    "db_name = \"Lab3\"\n",
    "password = \"zyx11457\"\n",
    "\n",
    "# Build the shp2pgsql command\n",
    "shp2pgsql_command = f\"\\\"{shp2pgsql_path}\\\" -s {srid} {shapefile_path} {schema_table} -c error:double precision\"\n",
    "\n",
    "# Build the psql command\n",
    "psql_command = f\"\\\"{psql_path}\\\" -h {host} -p {port} -U {user} -d {db_name} -w\"\n",
    "\n",
    "# Combine the commands using a pipe\n",
    "full_command = f\"{shp2pgsql_command} | {psql_command}\"\n",
    "\n",
    "# Set up the environment with the password\n",
    "env = os.environ.copy()\n",
    "env[\"PGPASSWORD\"] = password\n",
    "\n",
    "# Run the command using the subprocess module and capture stderr\n",
    "process = subprocess.Popen(full_command, shell=True, env=env, stderr=subprocess.PIPE)\n",
    "\n",
    "# Wait for the process to finish and capture the return code and stderr\n",
    "return_code = process.wait()\n",
    "stderr_output = process.stderr.read().decode()\n",
    "\n",
    "# Print the return code and error message\n",
    "print(f\"Return code: {return_code}\")\n",
    "print(f\"Error message: {stderr_output}\")\n",
    "\n",
    "\n"
   ]
  },
  {
   "cell_type": "code",
   "execution_count": 30,
   "metadata": {},
   "outputs": [],
   "source": [
    "# Set up the PostgreSQL connection\n",
    "connection = psycopg2.connect(host = '35.193.80.209',\n",
    "                             database = 'Lab3',\n",
    "                             user = 'postgres',\n",
    "                             password = 'zyx11457')\n",
    "\n",
    "# Set the name of the new table in the PostgreSQL database\n",
    "output_table = \"dem_BayesianKriging_difference\"\n",
    "\n",
    "# Use psycopg2 to create the table in the PostgreSQL database\n",
    "cursor = connection.cursor()\n",
    "cursor.execute(f\"ALTER TABLE {output_table} ALTER COLUMN error SET DATA TYPE double precision;\")\n",
    "#cursor.execute(f\"\")\n",
    "\n",
    "# Commit the changes to the PostgreSQL database\n",
    "connection.commit()\n",
    "\n",
    "# Close the PostgreSQL connection and cursor\n",
    "cursor.close()\n",
    "connection.close()"
   ]
  },
  {
   "cell_type": "code",
   "execution_count": 31,
   "metadata": {},
   "outputs": [
    {
     "name": "stdout",
     "output_type": "stream",
     "text": [
      "Output file path: E:/coursework/ARCGIS2/LAB3/LAB3\\dem_inteporlation_difference.geojson\n",
      "GeoJSON file saved as E:/coursework/ARCGIS2/LAB3/LAB3\\dem_inteporlation_difference.geojson\n"
     ]
    }
   ],
   "source": [
    "import requests\n",
    "import json\n",
    "import os\n",
    "\n",
    "# Replace this URL with the address of your Flask application\n",
    "url = \"http://34.125.39.137:5000/dem_difference\"\n",
    "response = requests.get(url)\n",
    "\n",
    "# Check if the request was successful\n",
    "if response.status_code == 200:\n",
    "    geojson_data = response.json()\n",
    "\n",
    "    # Save the GeoJSON to the specified folder and name it \"lab3_test.geojson\"\n",
    "    output_folder = r\"E:/coursework/ARCGIS2/LAB3/LAB3\"\n",
    "    output_file_path = os.path.join(output_folder, \"dem_inteporlation_difference.geojson\")\n",
    "    print(f\"Output file path: {output_file_path}\")\n",
    "\n",
    "    with open(output_file_path, \"w\") as f:\n",
    "        json.dump(geojson_data, f)\n",
    "    print(f\"GeoJSON file saved as {output_file_path}\")\n",
    "else:\n",
    "    print(\"Error fetching GeoJSON data\")"
   ]
  },
  {
   "cell_type": "code",
   "execution_count": 32,
   "metadata": {},
   "outputs": [],
   "source": [
    "import json\n",
    "\n",
    "# Read input JSON data from file\n",
    "with open(r'E:/coursework/ARCGIS2/LAB3/LAB3/dem_inteporlation_difference.geojson', 'r') as input_file:\n",
    "    input_data = json.load(input_file)\n",
    "\n",
    "# Process input data and create output data\n",
    "output_data = {\n",
    "    \"type\":\"FeatureCollection\",\n",
    "    \"features\":[\n",
    "        {\n",
    "            \"type\":\"Feature\",\n",
    "            \"geometry\":{\n",
    "                \"type\":\"Point\",\n",
    "                \"coordinates\":point_data[\"geometry\"][\"coordinates\"],\n",
    "            },\n",
    "            \"properties\":{\"error\": point_data[\"error\"]},\n",
    "        } for point_data in input_data\n",
    "    ] \n",
    "}\n",
    "\n",
    "# Write output JSON data to file\n",
    "with open(r'E:/coursework/ARCGIS2/LAB3/LAB3/dem_inteporlation_difference_esri.geojson', 'w') as output_file:\n",
    "    json.dump(output_data, output_file, indent=2)"
   ]
  },
  {
   "cell_type": "code",
   "execution_count": 33,
   "metadata": {},
   "outputs": [
    {
     "data": {
      "text/html": [
       "<div class=\"item_container\" style=\"height: auto; overflow: hidden; border: 1px solid #cfcfcf; border-radius: 2px; background: #f6fafa; line-height: 1.21429em; padding: 10px;\">\n",
       "                    <div class=\"item_left\" style=\"width: 210px; float: left;\">\n",
       "                       <a href='https://www.arcgis.com//home/item.html?id=6f7f4c065a2f4d28baf228ab0070448e' target='_blank'>\n",
       "                        <img src='http://static.arcgis.com/images/desktopapp.png' class=\"itemThumbnail\">\n",
       "                       </a>\n",
       "                    </div>\n",
       "\n",
       "                    <div class=\"item_right\"     style=\"float: none; width: auto; overflow: hidden;\">\n",
       "                        <a href='https://www.arcgis.com//home/item.html?id=6f7f4c065a2f4d28baf228ab0070448e' target='_blank'><b>dem_inteporlation_difference</b>\n",
       "                        </a>\n",
       "                        <br/><img src='https://www.arcgis.com//home/js/jsapi/esri/css/images/item_type_icons/featureshosted16.png' style=\"vertical-align:middle;\">Feature Layer Collection by zhan6322_UMN\n",
       "                        <br/>Last Modified: April 14, 2023\n",
       "                        <br/>0 comments, 0 views\n",
       "                    </div>\n",
       "                </div>\n",
       "                "
      ],
      "text/plain": [
       "<Item title:\"dem_inteporlation_difference\" type:Feature Layer Collection owner:zhan6322_UMN>"
      ]
     },
     "execution_count": 33,
     "metadata": {},
     "output_type": "execute_result"
    }
   ],
   "source": [
    "import arcgis\n",
    "gis = arcgis.gis.GIS(\"home\")\n",
    "\n",
    "# File previously loaded into AGOL (manually)\n",
    "file_path = r\"E:/coursework/ARCGIS2/LAB3/LAB3/dem_inteporlation_difference_esri.geojson\"\n",
    "\n",
    "# Add item \n",
    "props = {\"title\":\"dem_inteporlation_difference\", \"description\":\"Lab 3\", \"tags\":\"GIS 5572\", \"type\":\"GeoJson\"}\n",
    "item = gis.content.add(item_properties=props, data=file_path)\n",
    "\n",
    "# Publish item\n",
    "item.publish(None)"
   ]
  },
  {
   "cell_type": "code",
   "execution_count": null,
   "metadata": {},
   "outputs": [],
   "source": []
  }
 ],
 "metadata": {
  "kernelspec": {
   "display_name": "ArcGISPro",
   "language": "Python",
   "name": "python3"
  },
  "language_info": {
   "file_extension": ".py",
   "name": "python",
   "version": "3"
  }
 },
 "nbformat": 4,
 "nbformat_minor": 2
}
