{
 "cells": [
  {
   "cell_type": "code",
   "execution_count": 18,
   "metadata": {},
   "outputs": [],
   "source": [
    "import arcpy\n",
    "import requests\n",
    "import os\n",
    "from zipfile import ZipFile\n",
    "import json\n",
    "import pandas as pd\n",
    "import datetime"
   ]
  },
  {
   "cell_type": "code",
   "execution_count": 19,
   "metadata": {},
   "outputs": [],
   "source": [
    "# Define local directory\n",
    "local_directory = r\"E:\\coursework\\ARCGISI\\Lab3\\data\"\n",
    "# Create the local directory if it doesn't exist\n",
    "if not os.path.exists(local_directory):\n",
    "    os.makedirs(local_directory)\n",
    "    \n",
    "arcpy.env.workspace = r\"E:\\coursework\\ARCGISI\\Lab3\\data\""
   ]
  },
  {
   "cell_type": "code",
   "execution_count": 34,
   "metadata": {},
   "outputs": [],
   "source": [
    "def get_csv(url, local_directory, file_name):\n",
    "    response = requests.get(url)\n",
    "    file_name = os.path.join(local_directory,file_name)\n",
    "\n",
    "    with open(file_name, \"wb\") as f:\n",
    "        f.write(response.content)"
   ]
  },
  {
   "cell_type": "markdown",
   "metadata": {},
   "source": [
    "## Part II "
   ]
  },
  {
   "cell_type": "markdown",
   "metadata": {},
   "source": [
    "### Get Data"
   ]
  },
  {
   "cell_type": "code",
   "execution_count": 32,
   "metadata": {},
   "outputs": [
    {
     "data": {
      "text/plain": [
       "'2023-11-28'"
      ]
     },
     "execution_count": 32,
     "metadata": {},
     "output_type": "execute_result"
    }
   ],
   "source": [
    "#real-time\n",
    "year = str(datetime.datetime.now().year)\n",
    "begin_date = datetime.datetime.today().strftime('%Y-%m-%d')\n",
    "end_date = datetime.datetime.today()- datetime.timedelta(30)\n",
    "end_date = end_date.strftime('%Y-%m-%d')"
   ]
  },
  {
   "cell_type": "code",
   "execution_count": 41,
   "metadata": {},
   "outputs": [],
   "source": [
    "url = f'https://ndawn.ndsu.nodak.edu/table.csv?station=78&station=111&station=98&station=162&station=174&station=142&station=164&station=138&station=161&station=9&station=160&station=159&station=10&station=118&station=56&station=165&station=11&station=12&station=58&station=13&station=84&station=55&station=179&station=7&station=186&station=87&station=14&station=15&station=96&station=191&station=16&station=201&station=137&station=124&station=143&station=17&station=85&station=140&station=134&station=18&station=136&station=65&station=104&station=99&station=192&station=19&station=129&station=20&station=101&station=166&station=178&station=81&station=21&station=97&station=22&station=75&station=184&station=2&station=172&station=139&station=158&station=23&station=157&station=62&station=86&station=24&station=89&station=126&station=167&station=93&station=183&station=90&station=25&station=83&station=107&station=156&station=77&station=26&station=155&station=70&station=127&station=144&station=27&station=173&station=132&station=28&station=195&station=185&station=29&station=30&station=154&station=31&station=187&station=102&station=32&station=119&station=4&station=80&station=33&station=59&station=153&station=105&station=82&station=34&station=198&station=72&station=135&station=35&station=76&station=120&station=141&station=109&station=36&station=79&station=193&station=71&station=37&station=38&station=189&station=39&station=130&station=73&station=188&station=40&station=41&station=54&station=69&station=194&station=145&station=113&station=128&station=42&station=43&station=103&station=171&station=116&station=196&station=88&station=114&station=3&station=163&station=200&station=64&station=115&station=168&station=67&station=175&station=146&station=170&station=197&station=44&station=133&station=106&station=100&station=121&station=45&station=46&station=61&station=66&station=181&station=74&station=60&station=199&station=125&station=176&station=177&station=8&station=180&station=204&station=47&station=122&station=108&station=5&station=152&station=48&station=151&station=147&station=68&station=169&station=49&station=50&station=91&station=182&station=117&station=63&station=150&station=51&station=6&station=52&station=92&station=112&station=131&station=123&station=95&station=53&station=203&station=190&station=57&station=149&station=148&station=202&station=110&variable=ddmxt&variable=ddmnt&variable=ddavt&year={year}&ttype=daily&quick_pick=30_d&begin_date={begin_date}&end_date={end_date}'"
   ]
  },
  {
   "cell_type": "code",
   "execution_count": null,
   "metadata": {},
   "outputs": [],
   "source": [
    "https://ndawn.ndsu.nodak.edu/table.csv?station=78&station=111&station=98&station=162&station=174&station=142&station=164&station=138&station=161&station=9&station=160&station=159&station=10&station=118&station=56&station=165&station=11&station=12&station=58&station=13&station=84&station=55&station=179&station=7&station=186&station=87&station=14&station=15&station=96&station=191&station=16&station=201&station=137&station=124&station=143&station=17&station=85&station=140&station=134&station=18&station=136&station=65&station=104&station=99&station=192&station=19&station=129&station=20&station=101&station=166&station=178&station=81&station=21&station=97&station=22&station=75&station=184&station=2&station=172&station=139&station=158&station=23&station=157&station=62&station=86&station=24&station=89&station=126&station=167&station=93&station=183&station=90&station=25&station=83&station=107&station=156&station=77&station=26&station=155&station=70&station=127&station=144&station=27&station=173&station=132&station=28&station=195&station=185&station=29&station=30&station=154&station=31&station=187&station=102&station=32&station=119&station=4&station=80&station=33&station=59&station=153&station=105&station=82&station=34&station=198&station=72&station=135&station=35&station=76&station=120&station=141&station=109&station=36&station=79&station=193&station=71&station=37&station=38&station=189&station=39&station=130&station=73&station=188&station=40&station=41&station=54&station=69&station=194&station=145&station=113&station=128&station=42&station=43&station=103&station=171&station=116&station=196&station=88&station=114&station=3&station=163&station=200&station=64&station=115&station=168&station=67&station=175&station=146&station=170&station=197&station=44&station=133&station=106&station=100&station=121&station=45&station=46&station=61&station=66&station=181&station=74&station=60&station=199&station=125&station=176&station=177&station=8&station=180&station=204&station=47&station=122&station=108&station=5&station=152&station=48&station=151&station=147&station=68&station=169&station=49&station=50&station=91&station=182&station=117&station=63&station=150&station=51&station=6&station=52&station=92&station=112&station=131&station=123&station=95&station=53&station=203&station=190&station=57&station=149&station=148&station=202&station=110&variable=ddmxt&variable=ddmnt&variable=ddavt&year=2023&ttype=daily&quick_pick=&begin_date=2023-10-29&end_date=2023-11-28"
   ]
  },
  {
   "cell_type": "code",
   "execution_count": 44,
   "metadata": {},
   "outputs": [
    {
     "data": {
      "text/html": [
       "<div>\n",
       "<style scoped>\n",
       "    .dataframe tbody tr th:only-of-type {\n",
       "        vertical-align: middle;\n",
       "    }\n",
       "\n",
       "    .dataframe tbody tr th {\n",
       "        vertical-align: top;\n",
       "    }\n",
       "\n",
       "    .dataframe thead th {\n",
       "        text-align: right;\n",
       "    }\n",
       "</style>\n",
       "<table border=\"1\" class=\"dataframe\">\n",
       "  <thead>\n",
       "    <tr style=\"text-align: right;\">\n",
       "      <th></th>\n",
       "      <th>Station Name</th>\n",
       "      <th>Latitude</th>\n",
       "      <th>Longitude</th>\n",
       "      <th>Elevation</th>\n",
       "      <th>Year</th>\n",
       "      <th>Month</th>\n",
       "      <th>Day</th>\n",
       "      <th>Max Temp</th>\n",
       "      <th>Max Temp Flag</th>\n",
       "      <th>Min Temp</th>\n",
       "      <th>Min Temp Flag</th>\n",
       "      <th>Avg Temp</th>\n",
       "      <th>Avg Temp Flag</th>\n",
       "    </tr>\n",
       "  </thead>\n",
       "  <tbody>\n",
       "    <tr>\n",
       "      <th>0</th>\n",
       "      <td>Ada</td>\n",
       "      <td>47.32119</td>\n",
       "      <td>-96.51406</td>\n",
       "      <td>910</td>\n",
       "      <td>2023</td>\n",
       "      <td>10</td>\n",
       "      <td>29</td>\n",
       "      <td>27.163</td>\n",
       "      <td>NaN</td>\n",
       "      <td>14.036</td>\n",
       "      <td>NaN</td>\n",
       "      <td>20.600</td>\n",
       "      <td>NaN</td>\n",
       "    </tr>\n",
       "    <tr>\n",
       "      <th>1</th>\n",
       "      <td>Ada</td>\n",
       "      <td>47.32119</td>\n",
       "      <td>-96.51406</td>\n",
       "      <td>910</td>\n",
       "      <td>2023</td>\n",
       "      <td>10</td>\n",
       "      <td>30</td>\n",
       "      <td>31.597</td>\n",
       "      <td>NaN</td>\n",
       "      <td>17.402</td>\n",
       "      <td>NaN</td>\n",
       "      <td>24.500</td>\n",
       "      <td>NaN</td>\n",
       "    </tr>\n",
       "    <tr>\n",
       "      <th>2</th>\n",
       "      <td>Ada</td>\n",
       "      <td>47.32119</td>\n",
       "      <td>-96.51406</td>\n",
       "      <td>910</td>\n",
       "      <td>2023</td>\n",
       "      <td>10</td>\n",
       "      <td>31</td>\n",
       "      <td>24.303</td>\n",
       "      <td>NaN</td>\n",
       "      <td>14.918</td>\n",
       "      <td>NaN</td>\n",
       "      <td>19.611</td>\n",
       "      <td>NaN</td>\n",
       "    </tr>\n",
       "    <tr>\n",
       "      <th>3</th>\n",
       "      <td>Ada</td>\n",
       "      <td>47.32119</td>\n",
       "      <td>-96.51406</td>\n",
       "      <td>910</td>\n",
       "      <td>2023</td>\n",
       "      <td>11</td>\n",
       "      <td>1</td>\n",
       "      <td>32.893</td>\n",
       "      <td>NaN</td>\n",
       "      <td>22.177</td>\n",
       "      <td>NaN</td>\n",
       "      <td>27.535</td>\n",
       "      <td>NaN</td>\n",
       "    </tr>\n",
       "    <tr>\n",
       "      <th>4</th>\n",
       "      <td>Ada</td>\n",
       "      <td>47.32119</td>\n",
       "      <td>-96.51406</td>\n",
       "      <td>910</td>\n",
       "      <td>2023</td>\n",
       "      <td>11</td>\n",
       "      <td>2</td>\n",
       "      <td>33.024</td>\n",
       "      <td>NaN</td>\n",
       "      <td>23.578</td>\n",
       "      <td>NaN</td>\n",
       "      <td>28.301</td>\n",
       "      <td>NaN</td>\n",
       "    </tr>\n",
       "  </tbody>\n",
       "</table>\n",
       "</div>"
      ],
      "text/plain": [
       "  Station Name  Latitude  Longitude  ...  Min Temp Flag  Avg Temp  Avg Temp Flag\n",
       "0          Ada  47.32119  -96.51406  ...            NaN    20.600            NaN\n",
       "1          Ada  47.32119  -96.51406  ...            NaN    24.500            NaN\n",
       "2          Ada  47.32119  -96.51406  ...            NaN    19.611            NaN\n",
       "3          Ada  47.32119  -96.51406  ...            NaN    27.535            NaN\n",
       "4          Ada  47.32119  -96.51406  ...            NaN    28.301            NaN\n",
       "\n",
       "[5 rows x 13 columns]"
      ]
     },
     "execution_count": 44,
     "metadata": {},
     "output_type": "execute_result"
    }
   ],
   "source": [
    "get_csv(url,local_directory,'ndawn.csv')\n",
    "csv_path = os.path.join(local_directory,'ndawn.csv')\n",
    "ndawn_df = pd.read_csv(csv_path,header=3, skiprows=[4])\n",
    "ndawn_df.head()"
   ]
  },
  {
   "cell_type": "code",
   "execution_count": 47,
   "metadata": {},
   "outputs": [
    {
     "data": {
      "text/html": [
       "<div>\n",
       "<style scoped>\n",
       "    .dataframe tbody tr th:only-of-type {\n",
       "        vertical-align: middle;\n",
       "    }\n",
       "\n",
       "    .dataframe tbody tr th {\n",
       "        vertical-align: top;\n",
       "    }\n",
       "\n",
       "    .dataframe thead th {\n",
       "        text-align: right;\n",
       "    }\n",
       "</style>\n",
       "<table border=\"1\" class=\"dataframe\">\n",
       "  <thead>\n",
       "    <tr style=\"text-align: right;\">\n",
       "      <th></th>\n",
       "      <th>Latitude</th>\n",
       "      <th>Longitude</th>\n",
       "      <th>Max Temp</th>\n",
       "      <th>Min Temp</th>\n",
       "      <th>Avg Temp</th>\n",
       "    </tr>\n",
       "    <tr>\n",
       "      <th>Station Name</th>\n",
       "      <th></th>\n",
       "      <th></th>\n",
       "      <th></th>\n",
       "      <th></th>\n",
       "      <th></th>\n",
       "    </tr>\n",
       "  </thead>\n",
       "  <tbody>\n",
       "    <tr>\n",
       "      <th>Ada</th>\n",
       "      <td>47.32119</td>\n",
       "      <td>-96.51406</td>\n",
       "      <td>55.886</td>\n",
       "      <td>-6.250</td>\n",
       "      <td>29.377967</td>\n",
       "    </tr>\n",
       "    <tr>\n",
       "      <th>Adams</th>\n",
       "      <td>48.49988</td>\n",
       "      <td>-98.07588</td>\n",
       "      <td>50.576</td>\n",
       "      <td>-0.076</td>\n",
       "      <td>26.516167</td>\n",
       "    </tr>\n",
       "    <tr>\n",
       "      <th>Alamo</th>\n",
       "      <td>48.54652</td>\n",
       "      <td>-103.47186</td>\n",
       "      <td>54.050</td>\n",
       "      <td>-5.998</td>\n",
       "      <td>28.044467</td>\n",
       "    </tr>\n",
       "    <tr>\n",
       "      <th>Alexander</th>\n",
       "      <td>47.75056</td>\n",
       "      <td>-103.73358</td>\n",
       "      <td>58.010</td>\n",
       "      <td>-3.640</td>\n",
       "      <td>31.570600</td>\n",
       "    </tr>\n",
       "    <tr>\n",
       "      <th>Alvarado</th>\n",
       "      <td>48.24594</td>\n",
       "      <td>-97.02153</td>\n",
       "      <td>54.230</td>\n",
       "      <td>-2.866</td>\n",
       "      <td>28.561800</td>\n",
       "    </tr>\n",
       "  </tbody>\n",
       "</table>\n",
       "</div>"
      ],
      "text/plain": [
       "              Latitude  Longitude  Max Temp  Min Temp   Avg Temp\n",
       "Station Name                                                    \n",
       "Ada           47.32119  -96.51406    55.886    -6.250  29.377967\n",
       "Adams         48.49988  -98.07588    50.576    -0.076  26.516167\n",
       "Alamo         48.54652 -103.47186    54.050    -5.998  28.044467\n",
       "Alexander     47.75056 -103.73358    58.010    -3.640  31.570600\n",
       "Alvarado      48.24594  -97.02153    54.230    -2.866  28.561800"
      ]
     },
     "execution_count": 47,
     "metadata": {},
     "output_type": "execute_result"
    }
   ],
   "source": [
    "# Create Copy of Data with Relevant Columns\n",
    "columns = ['Station Name', 'Latitude', 'Longitude', 'Max Temp', 'Min Temp', 'Avg Temp']\n",
    "\n",
    "temp_df = ndawn_df[columns].copy()\n",
    "\n",
    "# Aggregate Data\n",
    "agg_functions = {'Latitude':'first', 'Longitude':'first', 'Max Temp':'max', 'Min Temp':'min', 'Avg Temp':'mean'}\n",
    "temp_df = temp_df.groupby('Station Name').aggregate(agg_functions)\n",
    "\n",
    "temp_df.to_csv(os.path.join(local_directory,'temp_monthly.csv'))\n",
    "\n",
    "temp_df.head()"
   ]
  },
  {
   "cell_type": "markdown",
   "metadata": {},
   "source": [
    "### Interpolation"
   ]
  },
  {
   "cell_type": "code",
   "execution_count": 49,
   "metadata": {},
   "outputs": [],
   "source": [
    "temperature = arcpy.management.XYTableToPoint(os.path.join(local_directory,'temp_monthly.csv'), 'temperature', 'Longitude', 'Latitude')"
   ]
  },
  {
   "cell_type": "code",
   "execution_count": 52,
   "metadata": {},
   "outputs": [],
   "source": [
    "IDW_avg = arcpy.sa.Idw(temperature, 'Avg_Temp')\n",
    "IDW_avg.save('idw_avg')\n",
    "        \n",
    "Kriging_avg = arcpy.sa.Kriging(temperature, 'Avg_Temp', arcpy.sa.KrigingModelOrdinary())\n",
    "Kriging_avg.save('kriging_avg')\n",
    "        \n",
    "Spline_avg = arcpy.sa.Spline(temperature, 'Avg_Temp')\n",
    "Spline_avg.save(\"spline_avg\")"
   ]
  },
  {
   "cell_type": "code",
   "execution_count": 53,
   "metadata": {},
   "outputs": [],
   "source": [
    "IDW_max = arcpy.sa.Idw(temperature, 'Max_Temp')\n",
    "IDW_max.save('idw_max')\n",
    "        \n",
    "Kriging_max = arcpy.sa.Kriging(temperature, 'Max_Temp', arcpy.sa.KrigingModelOrdinary())\n",
    "Kriging_max.save('kriging_max')\n",
    "        \n",
    "Spline_max = arcpy.sa.Spline(temperature, 'Max_Temp')\n",
    "Spline_max.save(\"spline_max\")"
   ]
  },
  {
   "cell_type": "code",
   "execution_count": 54,
   "metadata": {},
   "outputs": [],
   "source": [
    "IDW_min = arcpy.sa.Idw(temperature, 'Min_Temp')\n",
    "IDW_min.save('idw_min')\n",
    "        \n",
    "Kriging_min = arcpy.sa.Kriging(temperature, 'Min_Temp', arcpy.sa.KrigingModelOrdinary())\n",
    "Kriging_min.save('kriging_min')\n",
    "        \n",
    "Spline_min = arcpy.sa.Spline(temperature, 'Min_Temp')\n",
    "Spline_min.save(\"spline_min\")"
   ]
  },
  {
   "cell_type": "code",
   "execution_count": null,
   "metadata": {},
   "outputs": [],
   "source": []
  }
 ],
 "metadata": {
  "kernelspec": {
   "display_name": "ArcGISPro",
   "language": "Python",
   "name": "python3"
  },
  "language_info": {
   "file_extension": ".py",
   "name": "python",
   "version": "3"
  }
 },
 "nbformat": 4,
 "nbformat_minor": 2
}
