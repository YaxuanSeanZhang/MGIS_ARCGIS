{
 "cells": [
  {
   "cell_type": "code",
   "execution_count": 63,
   "metadata": {},
   "outputs": [],
   "source": [
    "# Import Libraries\n",
    "import arcpy\n",
    "import requests\n",
    "import os\n",
    "from zipfile import ZipFile\n",
    "import numpy as np"
   ]
  },
  {
   "cell_type": "code",
   "execution_count": 45,
   "metadata": {},
   "outputs": [],
   "source": [
    "# Define local directory\n",
    "local_directory = r\"E:\\coursework\\ARCGISI\\LAB3\\data\"\n",
    "# Create the local directory if it doesn't exist\n",
    "if not os.path.exists(local_directory):\n",
    "    os.makedirs(local_directory)\n",
    "    \n",
    "arcpy.env.workspace = r\"E:\\coursework\\ARCGISI\\LAB3\\data\""
   ]
  },
  {
   "cell_type": "markdown",
   "metadata": {},
   "source": [
    "## Part I"
   ]
  },
  {
   "cell_type": "markdown",
   "metadata": {},
   "source": [
    "### Download Data"
   ]
  },
  {
   "cell_type": "code",
   "execution_count": 47,
   "metadata": {},
   "outputs": [],
   "source": [
    "# Downloads DEM\n",
    "dem_url = r'https://resources.gisdata.mn.gov/pub/gdrs/data/pub/us_mn_state_dnr/elev_30m_digital_elevation_model/fgdb_elev_30m_digital_elevation_model.zip'\n",
    "response = requests.get(dem_url)\n",
    "file_name = os.path.join(local_directory, dem_url.split(\"/\")[-1])\n",
    "\n",
    "with open(file_name, \"wb\") as f:\n",
    "    f.write(response.content)\n",
    "    \n",
    "with ZipFile(file_name, \"r\") as zip_ref:\n",
    "    zip_ref.extractall(local_directory)"
   ]
  },
  {
   "cell_type": "code",
   "execution_count": 48,
   "metadata": {},
   "outputs": [
    {
     "data": {
      "text/html": [
       "<div class='gpresult'><h2>Messages</h2><div id='messages' data-messages='[\"Start Time: Saturday, October 28, 2023 12:00:57 AM\",\"Succeeded at Saturday, October 28, 2023 12:01:59 AM (Elapsed Time: 1 minutes 2 seconds)\"]' data-show='true'><div id = 'default' /></div></div>"
      ],
      "text/plain": [
       "<Result 'E:\\\\coursework\\\\ARCGISI\\\\Lab2\\\\data\\\\dem_reproject'>"
      ]
     },
     "execution_count": 48,
     "metadata": {},
     "output_type": "execute_result"
    }
   ],
   "source": [
    "# Reproject dem file\n",
    "sr = arcpy.SpatialReference(4326)\n",
    "in_raster = os.path.join(arcpy.env.workspace,'elev_30m_digital_elevation_model.gdb','digital_elevation_model_30m')\n",
    "arcpy.management.ProjectRaster(in_raster, 'dem_reproject',sr)"
   ]
  },
  {
   "cell_type": "code",
   "execution_count": 51,
   "metadata": {},
   "outputs": [
    {
     "data": {
      "text/html": [
       "<div class='gpresult'><h2>Messages</h2><div id='messages' data-messages='[\"Start Time: Saturday, October 28, 2023 12:10:45 AM\",\"Building Pyramids...\",\"Succeeded at Saturday, October 28, 2023 12:10:45 AM (Elapsed Time: 0.19 seconds)\"]' data-show='true'><div id = 'default' /></div></div>"
      ],
      "text/plain": [
       "<Result 'E:\\\\coursework\\\\ARCGISI\\\\Lab2\\\\data\\\\dem_final'>"
      ]
     },
     "execution_count": 51,
     "metadata": {},
     "output_type": "execute_result"
    }
   ],
   "source": [
    "# Clip dem file\n",
    "arcpy.management.Clip('dem_reproject','-92.18 44.20 -92.00 44.00','dem_final')"
   ]
  },
  {
   "cell_type": "code",
   "execution_count": null,
   "metadata": {},
   "outputs": [],
   "source": [
    "# Slope\n",
    "slope = arcpy.sa.Slope(\"dem_final\", \"DEGREE\", 1, \"PLANAR\", \"METER\")\n",
    "slope.save('slope')"
   ]
  },
  {
   "cell_type": "code",
   "execution_count": 57,
   "metadata": {},
   "outputs": [],
   "source": [
    "# Downloads LC\n",
    "landcover_url = \"https://resources.gisdata.mn.gov/pub/gdrs/data/pub/us_mn_state_dnr/biota_landcover_nlcd_mn_2019/tif_biota_landcover_nlcd_mn_2019.zip\"\n",
    "response = requests.get(landcover_url)\n",
    "file_name = os.path.join(local_directory, landcover_url.split(\"/\")[-1])\n",
    "\n",
    "with open(file_name, \"wb\") as f:\n",
    "    f.write(response.content)\n",
    "    \n",
    "with ZipFile(file_name, \"r\") as zip_ref:\n",
    "    zip_ref.extractall(local_directory)"
   ]
  },
  {
   "cell_type": "code",
   "execution_count": 59,
   "metadata": {},
   "outputs": [
    {
     "data": {
      "text/html": [
       "<div class='gpresult'><h2>Messages</h2><div id='messages' data-messages='[\"Start Time: Saturday, October 28, 2023 12:23:48 AM\",\"Succeeded at Saturday, October 28, 2023 12:25:05 AM (Elapsed Time: 1 minutes 16 seconds)\"]' data-show='true'><div id = 'default' /></div></div>"
      ],
      "text/plain": [
       "<Result 'E:\\\\coursework\\\\ARCGISI\\\\Lab2\\\\data\\\\landcover_reproject.tif'>"
      ]
     },
     "execution_count": 59,
     "metadata": {},
     "output_type": "execute_result"
    }
   ],
   "source": [
    "sr = arcpy.SpatialReference(4326)\n",
    "arcpy.management.ProjectRaster('NLCD_2019_Land_Cover.tif', 'landcover_reproject.tif',sr)"
   ]
  },
  {
   "cell_type": "code",
   "execution_count": 60,
   "metadata": {},
   "outputs": [
    {
     "data": {
      "text/html": [
       "<div class='gpresult'><h2>Messages</h2><div id='messages' data-messages='[\"Start Time: Saturday, October 28, 2023 12:25:09 AM\",\"Building Pyramids...\",\"Succeeded at Saturday, October 28, 2023 12:25:09 AM (Elapsed Time: 0.21 seconds)\"]' data-show='true'><div id = 'default' /></div></div>"
      ],
      "text/plain": [
       "<Result 'E:\\\\coursework\\\\ARCGISI\\\\Lab2\\\\data\\\\landcover_final.tif'>"
      ]
     },
     "execution_count": 60,
     "metadata": {},
     "output_type": "execute_result"
    }
   ],
   "source": [
    "# Clip dem file\n",
    "arcpy.management.Clip('landcover_reproject.tif','-92.18 44.20 -92.00 44.00','landcover_final.tif')"
   ]
  },
  {
   "cell_type": "markdown",
   "metadata": {},
   "source": [
    "### Modeling"
   ]
  },
  {
   "cell_type": "code",
   "execution_count": 78,
   "metadata": {},
   "outputs": [],
   "source": [
    "# Standarization slope\n",
    "rMinResult = arcpy.GetRasterProperties_management('slope', \"MINIMUM\")\n",
    "rMin = rMinResult.getOutput(0)\n",
    "\n",
    "rMaxResult = arcpy.GetRasterProperties_management('slope', \"MAXIMUM\")\n",
    "rMax = rMaxResult.getOutput(0)\n",
    "\n",
    "outRaster = (arcpy.Raster('landcover_final') - float(rMin))/(float(rMax) - float(rMin))\n",
    "outRaster.save('slope_sd')"
   ]
  },
  {
   "cell_type": "code",
   "execution_count": 101,
   "metadata": {},
   "outputs": [],
   "source": [
    "# Reclassify landcover\n",
    "remap = arcpy.sa.RemapValue([\n",
    "    [11, 1], \n",
    "    [21, 0],\n",
    "    [22, 0],\n",
    "    [23, 0],\n",
    "    [24, 0],\n",
    "    [31, 1],\n",
    "    [41, 1],\n",
    "    [42, 1],\n",
    "    [43, 1],\n",
    "    [52, 1],\n",
    "    [71, 1],\n",
    "    [81, 1],\n",
    "    [82, 1],\n",
    "    [90, 1],\n",
    "    [95, 1]\n",
    "])\n",
    "\n",
    "outRaster = arcpy.sa.Reclassify(\"landcover_final.tif\", \"Value\", remap,'NODATA')\n",
    "outRaster.save('landcover_sd')"
   ]
  },
  {
   "cell_type": "code",
   "execution_count": 117,
   "metadata": {},
   "outputs": [
    {
     "data": {
      "text/html": [
       "<div class='gpresult'><h2>Messages</h2><div id='messages' data-messages='[\"Start Time: Saturday, October 28, 2023 12:55:10 PM\",\"Adding Variable to od...\",\"Succeeded at Saturday, October 28, 2023 12:55:10 PM (Elapsed Time: 0.02 seconds)\"]' data-show='true'><div id = 'default' /></div></div>"
      ],
      "text/plain": [
       "<Result 'E:\\\\coursework\\\\ARCGISI\\\\Lab2\\\\data\\\\od.shp'>"
      ]
     },
     "execution_count": 117,
     "metadata": {},
     "output_type": "execute_result"
    }
   ],
   "source": [
    "# Create Origin-Destination\n",
    "point1 = arcpy.Point(-92.148796, 44.127985)  # Origin\n",
    "point2 = arcpy.Point(-92.044817, 44.054470)  # Destination\n",
    "\n",
    "arcpy.CreateFeatureclass_management(arcpy.env.workspace, \"od\", \"POINT\", spatial_reference=sr)\n",
    "arcpy.AddField_management(\"od.shp\", \"Variable\", \"Text\")"
   ]
  },
  {
   "cell_type": "code",
   "execution_count": 118,
   "metadata": {},
   "outputs": [],
   "source": [
    "\n",
    "with arcpy.da.InsertCursor(\"od.shp\", [\"SHAPE@\", \"Variable\"]) as cursor:\n",
    "    cursor.insertRow([point1, 'Origin'])\n",
    "    cursor.insertRow([point2, 'Destination'])\n",
    "\n",
    "del cursor"
   ]
  },
  {
   "cell_type": "code",
   "execution_count": 134,
   "metadata": {},
   "outputs": [],
   "source": [
    "# Create Several Cost Surfaces to Test Different Model Weights\n",
    "for i in np.array([0.1, 0.5, 0.9]):\n",
    "    # Set Weights\n",
    "    slope_weight = i\n",
    "    landcover_weight = 1-i\n",
    "    \n",
    "    # Calculate Cost and Save as New Raster\n",
    "    cost = arcpy.Raster('slope_sd') * float(slope_weight) + arcpy.Raster('landcover_sd') * float(landcover_weight)\n",
    "    cost_surface_filename = 'cost_surface_slope' + str(i) + '_lc' + str(1-i) +'.tif'\n",
    "    cost.save(cost_surface_filename)\n",
    "\n",
    "    # Create Cost Path\n",
    "    path_filename = 'final_path_slope' + str(i) + '_lc' + str(1-i) \n",
    "    arcpy.sa.OptimalRegionConnections(\"od.shp\", 'POLYLINE',in_cost_raster = cost,out_neighbor_paths = path_filename)"
   ]
  },
  {
   "cell_type": "code",
   "execution_count": null,
   "metadata": {},
   "outputs": [],
   "source": []
  }
 ],
 "metadata": {
  "kernelspec": {
   "display_name": "ArcGISPro",
   "language": "Python",
   "name": "python3"
  },
  "language_info": {
   "file_extension": ".py",
   "name": "python",
   "version": "3"
  }
 },
 "nbformat": 4,
 "nbformat_minor": 2
}
