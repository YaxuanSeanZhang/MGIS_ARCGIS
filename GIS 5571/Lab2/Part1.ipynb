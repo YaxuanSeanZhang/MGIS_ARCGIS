{
 "cells": [
  {
   "cell_type": "code",
   "execution_count": null,
   "metadata": {},
   "outputs": [],
   "source": [
    "# Import Libraries\n",
    "import arcpy\n",
    "import requests\n",
    "import os\n",
    "from zipfile import ZipFile"
   ]
  },
  {
   "cell_type": "code",
   "execution_count": null,
   "metadata": {},
   "outputs": [],
   "source": [
    "# Define local directory\n",
    "local_directory = r\"E:\\coursework\\ARCGISI\\LAB2\\data\"\n",
    "# Create the local directory if it doesn't exist\n",
    "if not os.path.exists(local_directory):\n",
    "    os.makedirs(local_directory)\n",
    "    \n",
    "arcpy.env.workspace = r\"E:\\coursework\\ARCGISI\\LAB2\\data\""
   ]
  },
  {
   "cell_type": "markdown",
   "metadata": {},
   "source": [
    "## Part I"
   ]
  },
  {
   "cell_type": "markdown",
   "metadata": {},
   "source": [
    "### Las ETL Pipeline"
   ]
  },
  {
   "cell_type": "code",
   "execution_count": null,
   "metadata": {},
   "outputs": [],
   "source": [
    "# Downloads .LAS files from MN DNR\n",
    "lidar_url = r'https://resources.gisdata.mn.gov/pub/data/elevation/lidar/examples/lidar_sample/las/4342-12-05.las'\n",
    "response = requests.get(lidar_url)\n",
    "file_name = os.path.join(local_directory, lidar_url.split(\"/\")[-1])\n",
    "\n",
    "with open(file_name, \"wb\") as f:\n",
    "    f.write(response.content)"
   ]
  },
  {
   "cell_type": "code",
   "execution_count": null,
   "metadata": {},
   "outputs": [],
   "source": [
    "# Converts the .LAS file into a DEM and Save to disk\n",
    "arcpy.conversion.LasDatasetToRaster(\"4342-12-05.las\", r\"4342-12-05DEM.tif\")"
   ]
  },
  {
   "cell_type": "code",
   "execution_count": null,
   "metadata": {},
   "outputs": [],
   "source": [
    "# Converts the .LAS file into a TIN and Save to disk\n",
    "arcpy.ddd.LasDatasetToTin(\"4342-12-05.las\", r\"4342-12-05TIN\", \"WINDOW_SIZE\",\"CLOSEST_TO_MEAN\")"
   ]
  },
  {
   "cell_type": "code",
   "execution_count": null,
   "metadata": {},
   "outputs": [],
   "source": [
    "# Export as pdf\n",
    "aprx = arcpy.mp.ArcGISProject(\"CURRENT\")\n",
    "lyt = aprx.listLayouts()[0]\n",
    "lyt.exportToPDF(r\"4342-12-05DEM.pdf\", resolution=300)\n",
    "\n",
    "lyt = aprx.listLayouts()[1]\n",
    "lyt.exportToPDF(r\"4342-12-05TIN.pdf\", resolution=300)"
   ]
  },
  {
   "cell_type": "markdown",
   "metadata": {},
   "source": [
    "### Bil ETL Pipeline"
   ]
  },
  {
   "cell_type": "code",
   "execution_count": null,
   "metadata": {},
   "outputs": [],
   "source": [
    "# Downloads the annual 30-Year Normals .bil files for precipitation from PRISM \n",
    "bil_url = r'https://ftp.prism.oregonstate.edu/normals_4km/ppt/PRISM_ppt_30yr_normal_4kmM4_all_bil.zip'\n",
    "response = requests.get(bil_url)\n",
    "file_name = os.path.join(local_directory, bil_url.split(\"/\")[-1])\n",
    "\n",
    "with open(file_name, \"wb\") as f:\n",
    "    f.write(response.content)\n",
    "    \n",
    "with ZipFile(file_name, \"r\") as zip_ref:\n",
    "    zip_ref.extractall(local_directory)"
   ]
  },
  {
   "cell_type": "code",
   "execution_count": null,
   "metadata": {},
   "outputs": [],
   "source": [
    "# Converts the data into a spacetime cube\n",
    "sr = arcpy.SpatialReference(4326)\n",
    "arcpy.env.workspace = r\"E:\\coursework\\ARCGISI\\LAB2\\Default.gdb\"\n",
    "# Create mosaic\n",
    "arcpy.management.CreateMosaicDataset(arcpy.env.workspace, \"mosaic\", sr)"
   ]
  },
  {
   "cell_type": "code",
   "execution_count": null,
   "metadata": {},
   "outputs": [],
   "source": [
    "# Add Rasters to Mosaic\n",
    "for i in ['01','02','03','04','05','06','07','08','09','10','11','12']:\n",
    "    path = [\"E:\\coursework\\ARCGISI\\LAB2\\data\\PRISM_ppt_30yr_normal_4kmM4_\", i,\"_bil.bil\"]\n",
    "    input_file = ''.join(path)\n",
    "    print(input_file)\n",
    "    arcpy.management.AddRastersToMosaicDataset(\"mosaic\", \"Raster Dataset\", input_file)"
   ]
  },
  {
   "cell_type": "code",
   "execution_count": null,
   "metadata": {},
   "outputs": [],
   "source": [
    "# Create variable and timestamp\n",
    "arcpy.management.CalculateField(r\"mosaic\\Footprint\", \"Variable\", '\"Precipitation\"',\"PYTHON3\", '', \"TEXT\", \"NO_ENFORCE_DOMAINS\")\n",
    "arcpy.management.CalculateField(r\"mosaic\\Footprint\", \"Timestamp\", 'DateAdd(Date(2020, 0, 1), $feature.OBJECTID-1, \"month\")', \"ARCADE\", '', \"DATE\", \"NO_ENFORCE_DOMAINS\")\n"
   ]
  },
  {
   "cell_type": "code",
   "execution_count": null,
   "metadata": {},
   "outputs": [],
   "source": [
    "# Build Multidimensional Info\n",
    "arcpy.md.BuildMultidimensionalInfo(\"mosaic\", \"Variable\", \"Timestamp # #\", None, \"NO_DELETE_MULTIDIMENSIONAL_INFO\")"
   ]
  },
  {
   "cell_type": "code",
   "execution_count": null,
   "metadata": {},
   "outputs": [],
   "source": [
    "# Create Multidimensional Raster\n",
    "arcpy.md.MakeMultidimensionalRasterLayer(\"mosaic\", \"mosaic_MultidimLayer\",\"Precipitation\")"
   ]
  },
  {
   "cell_type": "code",
   "execution_count": null,
   "metadata": {},
   "outputs": [],
   "source": [
    "# Create Space Time Cube\n",
    "arcpy.stpm.CreateSpaceTimeCubeMDRasterLayer(\"mosaic_MultidimLayer\", \"prism_cube.nc\", \"SPATIAL_NEIGHBORS\")"
   ]
  },
  {
   "cell_type": "code",
   "execution_count": null,
   "metadata": {},
   "outputs": [],
   "source": [
    "# Export an animation of the timeseries \n",
    "arcpy.stpm.VisualizeSpaceTimeCube3D(r\"E:\\coursework\\ARCGISI\\LAB2\\prism_cube.nc\", \"PRECIPITATION_NONE_SPATIAL_NEIGHBORS\", \"VALUE\",\"cube_Visualize3d\")"
   ]
  }
 ],
 "metadata": {
  "kernelspec": {
   "display_name": "ArcGISPro",
   "language": "Python",
   "name": "python3"
  },
  "language_info": {
   "file_extension": ".py",
   "name": "python",
   "version": "3"
  }
 },
 "nbformat": 4,
 "nbformat_minor": 2
}
