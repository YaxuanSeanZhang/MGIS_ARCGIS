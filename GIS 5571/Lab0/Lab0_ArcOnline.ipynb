{
 "cells": [
  {
   "cell_type": "markdown",
   "metadata": {},
   "source": [
    "## Welcome to your notebook.\n"
   ]
  },
  {
   "cell_type": "markdown",
   "metadata": {},
   "source": [
    "#### Run this cell to connect to your GIS and get started:"
   ]
  },
  {
   "cell_type": "code",
   "execution_count": 1,
   "metadata": {},
   "outputs": [
    {
     "name": "stderr",
     "output_type": "stream",
     "text": [
      "/opt/conda/lib/python3.9/site-packages/arcgis/gis/__init__.py:676: UserWarning: You are logged on as zhan6322_UMN with an administrator role, proceed with caution.\n",
      "  warnings.warn(\n"
     ]
    }
   ],
   "source": [
    "from arcgis.gis import GIS\n",
    "gis = GIS(\"home\")"
   ]
  },
  {
   "cell_type": "markdown",
   "metadata": {},
   "source": [
    "#### Now you are ready to start!"
   ]
  },
  {
   "cell_type": "code",
   "execution_count": 2,
   "metadata": {},
   "outputs": [],
   "source": [
    "from arcgis.features import use_proximity"
   ]
  },
  {
   "cell_type": "code",
   "execution_count": 3,
   "metadata": {},
   "outputs": [
    {
     "data": {
      "text/html": [
       "<div class=\"item_container\" style=\"height: auto; overflow: hidden; border: 1px solid #cfcfcf; border-radius: 2px; background: #f6fafa; line-height: 1.21429em; padding: 10px;\">\n",
       "                    <div class=\"item_left\" style=\"width: 210px; float: left;\">\n",
       "                       <a href='https://www.arcgis.com/home/item.html?id=5cfcf81fb00d4e28a57e65266257269e' target='_blank'>\n",
       "                        <img src='data:image/png;base64,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' width='200' height='133' class=\"itemThumbnail\">\n",
       "                       </a>\n",
       "                    </div>\n",
       "\n",
       "                    <div class=\"item_right\"     style=\"float: none; width: auto; overflow: hidden;\">\n",
       "                        <a href='https://www.arcgis.com/home/item.html?id=5cfcf81fb00d4e28a57e65266257269e' target='_blank'><b>road_mn</b>\n",
       "                        </a>\n",
       "                        <br/>REQUIRED: A summary of the intentions with which the data set was developed.<img src='https://www.arcgis.com/home/js/jsapi/esri/css/images/item_type_icons/featureshosted16.png' style=\"vertical-align:middle;\">Feature Layer Collection by zhan6322_UMN\n",
       "                        <br/>Last Modified: September 13, 2023\n",
       "                        <br/>0 comments, 7 views\n",
       "                    </div>\n",
       "                </div>\n",
       "                "
      ],
      "text/plain": [
       "<Item title:\"road_mn\" type:Feature Layer Collection owner:zhan6322_UMN>"
      ]
     },
     "execution_count": 3,
     "metadata": {},
     "output_type": "execute_result"
    }
   ],
   "source": [
    "# Item Added From Toolbar\n",
    "# Title: road_mn | Type: Feature Service | Owner: zhan6322_UMN\n",
    "item = gis.content.get(\"5cfcf81fb00d4e28a57e65266257269e\")\n",
    "item"
   ]
  },
  {
   "cell_type": "code",
   "execution_count": 4,
   "metadata": {},
   "outputs": [
    {
     "name": "stderr",
     "output_type": "stream",
     "text": [
      "{\"cost\": 446.797}\n"
     ]
    }
   ],
   "source": [
    "# Create buffers using the use_proximity.create_buffers function\n",
    "buffered_layer = use_proximity.create_buffers(input_layer=item,  \n",
    "                                              distances=[1],\n",
    "                                              units='Kilometers',\n",
    "                                              output_name='buffers_road_lab0'\n",
    "                                             )\n"
   ]
  },
  {
   "cell_type": "code",
   "execution_count": null,
   "metadata": {},
   "outputs": [],
   "source": []
  }
 ],
 "metadata": {
  "esriNotebookRuntime": {
   "notebookRuntimeName": "ArcGIS Notebook Python 3 Standard",
   "notebookRuntimeVersion": "8.0"
  },
  "kernelspec": {
   "display_name": "Python 3 (ipykernel)",
   "language": "python",
   "name": "python3"
  },
  "language_info": {
   "codemirror_mode": {
    "name": "ipython",
    "version": 3
   },
   "file_extension": ".py",
   "mimetype": "text/x-python",
   "name": "python",
   "nbconvert_exporter": "python",
   "pygments_lexer": "ipython3",
   "version": "3.9.16"
  }
 },
 "nbformat": 4,
 "nbformat_minor": 2
}
